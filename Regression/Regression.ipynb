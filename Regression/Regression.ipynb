{
 "cells": [
  {
   "cell_type": "markdown",
   "metadata": {},
   "source": [
    "# Regression Keras"
   ]
  },
  {
   "cell_type": "code",
   "execution_count": 1,
   "metadata": {},
   "outputs": [],
   "source": [
    "from warnings import filterwarnings\n",
    "filterwarnings('ignore')"
   ]
  },
  {
   "cell_type": "markdown",
   "metadata": {},
   "source": [
    "### Create a Regression Dataset with 10 columns"
   ]
  },
  {
   "cell_type": "code",
   "execution_count": 2,
   "metadata": {},
   "outputs": [
    {
     "name": "stdout",
     "output_type": "stream",
     "text": [
      "Requirement already satisfied: scikit-learn in c:\\deep learning\\repository\\venv\\lib\\site-packages (1.4.0)\n",
      "Requirement already satisfied: numpy<2.0,>=1.19.5 in c:\\deep learning\\repository\\venv\\lib\\site-packages (from scikit-learn) (1.26.4)\n",
      "Requirement already satisfied: scipy>=1.6.0 in c:\\deep learning\\repository\\venv\\lib\\site-packages (from scikit-learn) (1.12.0)\n",
      "Requirement already satisfied: joblib>=1.2.0 in c:\\deep learning\\repository\\venv\\lib\\site-packages (from scikit-learn) (1.3.2)\n",
      "Requirement already satisfied: threadpoolctl>=2.0.0 in c:\\deep learning\\repository\\venv\\lib\\site-packages (from scikit-learn) (3.2.0)\n",
      "Note: you may need to restart the kernel to use updated packages.\n"
     ]
    }
   ],
   "source": [
    "%pip install scikit-learn\n"
   ]
  },
  {
   "cell_type": "code",
   "execution_count": 3,
   "metadata": {},
   "outputs": [],
   "source": [
    "from sklearn.datasets import make_regression\n",
    "X, Y = make_regression(n_samples=2000, n_features=15, noise=10, random_state=42)"
   ]
  },
  {
   "cell_type": "code",
   "execution_count": 4,
   "metadata": {},
   "outputs": [
    {
     "data": {
      "text/plain": [
       "(2000, 15)"
      ]
     },
     "execution_count": 4,
     "metadata": {},
     "output_type": "execute_result"
    }
   ],
   "source": [
    "X.shape"
   ]
  },
  {
   "cell_type": "code",
   "execution_count": 5,
   "metadata": {},
   "outputs": [
    {
     "data": {
      "text/plain": [
       "array([[-1.17696211,  1.19311295, -0.2215366 , ...,  0.78400278,\n",
       "         1.02151539, -0.98453405],\n",
       "       [ 1.69505104, -1.40631746,  0.04360245, ..., -0.42930222,\n",
       "        -0.08310557, -0.61176909],\n",
       "       [-0.1382643 , -0.46341769,  0.49671415, ..., -0.46947439,\n",
       "        -0.46572975,  1.57921282],\n",
       "       ...,\n",
       "       [ 0.05946593,  0.60608518, -1.45596504, ...,  1.2924069 ,\n",
       "        -0.72547532,  1.46572641],\n",
       "       [-1.1859422 ,  0.13408869,  0.23743766, ...,  0.61696884,\n",
       "         0.93397432,  0.82805822],\n",
       "       [ 0.22084177,  0.61657935, -0.033068  , ...,  0.16342782,\n",
       "        -1.30709834,  0.32982306]])"
      ]
     },
     "execution_count": 5,
     "metadata": {},
     "output_type": "execute_result"
    }
   ],
   "source": [
    "X"
   ]
  },
  {
   "cell_type": "code",
   "execution_count": 6,
   "metadata": {},
   "outputs": [
    {
     "data": {
      "text/plain": [
       "(2000,)"
      ]
     },
     "execution_count": 6,
     "metadata": {},
     "output_type": "execute_result"
    }
   ],
   "source": [
    "Y.shape"
   ]
  },
  {
   "cell_type": "code",
   "execution_count": 7,
   "metadata": {},
   "outputs": [
    {
     "data": {
      "text/plain": [
       "array([ -42.09237112,    7.59948313,  259.34233549, ..., -212.43549359,\n",
       "       -306.92429931,  -13.74320147])"
      ]
     },
     "execution_count": 7,
     "metadata": {},
     "output_type": "execute_result"
    }
   ],
   "source": [
    "Y"
   ]
  },
  {
   "cell_type": "markdown",
   "metadata": {},
   "source": [
    "### Save above X and Y in DataFrame format"
   ]
  },
  {
   "cell_type": "code",
   "execution_count": 8,
   "metadata": {},
   "outputs": [
    {
     "data": {
      "text/plain": [
       "['x1',\n",
       " 'x2',\n",
       " 'x3',\n",
       " 'x4',\n",
       " 'x5',\n",
       " 'x6',\n",
       " 'x7',\n",
       " 'x8',\n",
       " 'x9',\n",
       " 'x10',\n",
       " 'x11',\n",
       " 'x12',\n",
       " 'x13',\n",
       " 'x14',\n",
       " 'x15']"
      ]
     },
     "execution_count": 8,
     "metadata": {},
     "output_type": "execute_result"
    }
   ],
   "source": [
    "cols = [f'x{i+1}' for i in range(15)]\n",
    "cols"
   ]
  },
  {
   "cell_type": "code",
   "execution_count": 9,
   "metadata": {},
   "outputs": [
    {
     "name": "stdout",
     "output_type": "stream",
     "text": [
      "Requirement already satisfied: pandas in c:\\deep learning\\repository\\venv\\lib\\site-packages (2.2.0)\n",
      "Requirement already satisfied: numpy<2,>=1.23.2 in c:\\deep learning\\repository\\venv\\lib\\site-packages (from pandas) (1.26.4)\n",
      "Requirement already satisfied: python-dateutil>=2.8.2 in c:\\deep learning\\repository\\venv\\lib\\site-packages (from pandas) (2.8.2)\n",
      "Requirement already satisfied: pytz>=2020.1 in c:\\deep learning\\repository\\venv\\lib\\site-packages (from pandas) (2024.1)\n",
      "Requirement already satisfied: tzdata>=2022.7 in c:\\deep learning\\repository\\venv\\lib\\site-packages (from pandas) (2024.1)\n",
      "Requirement already satisfied: six>=1.5 in c:\\deep learning\\repository\\venv\\lib\\site-packages (from python-dateutil>=2.8.2->pandas) (1.16.0)\n",
      "Note: you may need to restart the kernel to use updated packages.\n"
     ]
    }
   ],
   "source": [
    "%pip install pandas"
   ]
  },
  {
   "cell_type": "code",
   "execution_count": 10,
   "metadata": {},
   "outputs": [
    {
     "data": {
      "text/html": [
       "<div>\n",
       "<style scoped>\n",
       "    .dataframe tbody tr th:only-of-type {\n",
       "        vertical-align: middle;\n",
       "    }\n",
       "\n",
       "    .dataframe tbody tr th {\n",
       "        vertical-align: top;\n",
       "    }\n",
       "\n",
       "    .dataframe thead th {\n",
       "        text-align: right;\n",
       "    }\n",
       "</style>\n",
       "<table border=\"1\" class=\"dataframe\">\n",
       "  <thead>\n",
       "    <tr style=\"text-align: right;\">\n",
       "      <th></th>\n",
       "      <th>x1</th>\n",
       "      <th>x2</th>\n",
       "      <th>x3</th>\n",
       "      <th>x4</th>\n",
       "      <th>x5</th>\n",
       "      <th>x6</th>\n",
       "      <th>x7</th>\n",
       "      <th>x8</th>\n",
       "      <th>x9</th>\n",
       "      <th>x10</th>\n",
       "      <th>x11</th>\n",
       "      <th>x12</th>\n",
       "      <th>x13</th>\n",
       "      <th>x14</th>\n",
       "      <th>x15</th>\n",
       "    </tr>\n",
       "  </thead>\n",
       "  <tbody>\n",
       "    <tr>\n",
       "      <th>0</th>\n",
       "      <td>-1.176962</td>\n",
       "      <td>1.193113</td>\n",
       "      <td>-0.221537</td>\n",
       "      <td>0.918915</td>\n",
       "      <td>-0.188261</td>\n",
       "      <td>0.209470</td>\n",
       "      <td>-0.459657</td>\n",
       "      <td>-1.079842</td>\n",
       "      <td>1.820544</td>\n",
       "      <td>-0.566395</td>\n",
       "      <td>0.831617</td>\n",
       "      <td>-0.005955</td>\n",
       "      <td>0.784003</td>\n",
       "      <td>1.021515</td>\n",
       "      <td>-0.984534</td>\n",
       "    </tr>\n",
       "    <tr>\n",
       "      <th>1</th>\n",
       "      <td>1.695051</td>\n",
       "      <td>-1.406317</td>\n",
       "      <td>0.043602</td>\n",
       "      <td>-1.504720</td>\n",
       "      <td>-0.692421</td>\n",
       "      <td>-1.320023</td>\n",
       "      <td>0.760056</td>\n",
       "      <td>0.082440</td>\n",
       "      <td>-0.622649</td>\n",
       "      <td>0.194607</td>\n",
       "      <td>-0.742471</td>\n",
       "      <td>-0.037037</td>\n",
       "      <td>-0.429302</td>\n",
       "      <td>-0.083106</td>\n",
       "      <td>-0.611769</td>\n",
       "    </tr>\n",
       "    <tr>\n",
       "      <th>2</th>\n",
       "      <td>-0.138264</td>\n",
       "      <td>-0.463418</td>\n",
       "      <td>0.496714</td>\n",
       "      <td>0.241962</td>\n",
       "      <td>0.542560</td>\n",
       "      <td>-0.234137</td>\n",
       "      <td>-1.913280</td>\n",
       "      <td>-1.724918</td>\n",
       "      <td>0.647689</td>\n",
       "      <td>1.523030</td>\n",
       "      <td>-0.234153</td>\n",
       "      <td>0.767435</td>\n",
       "      <td>-0.469474</td>\n",
       "      <td>-0.465730</td>\n",
       "      <td>1.579213</td>\n",
       "    </tr>\n",
       "    <tr>\n",
       "      <th>3</th>\n",
       "      <td>0.616664</td>\n",
       "      <td>0.609880</td>\n",
       "      <td>1.260850</td>\n",
       "      <td>0.794923</td>\n",
       "      <td>-0.310938</td>\n",
       "      <td>-1.075737</td>\n",
       "      <td>1.349135</td>\n",
       "      <td>1.058170</td>\n",
       "      <td>0.087974</td>\n",
       "      <td>-0.440275</td>\n",
       "      <td>-0.528998</td>\n",
       "      <td>-2.120087</td>\n",
       "      <td>-0.736064</td>\n",
       "      <td>-0.039926</td>\n",
       "      <td>-0.431456</td>\n",
       "    </tr>\n",
       "    <tr>\n",
       "      <th>4</th>\n",
       "      <td>0.626614</td>\n",
       "      <td>1.481961</td>\n",
       "      <td>-0.248616</td>\n",
       "      <td>-0.565576</td>\n",
       "      <td>-0.802280</td>\n",
       "      <td>2.154929</td>\n",
       "      <td>-0.471316</td>\n",
       "      <td>0.718417</td>\n",
       "      <td>0.045564</td>\n",
       "      <td>0.623407</td>\n",
       "      <td>0.703440</td>\n",
       "      <td>-0.941023</td>\n",
       "      <td>0.246084</td>\n",
       "      <td>-0.283218</td>\n",
       "      <td>-0.315297</td>\n",
       "    </tr>\n",
       "  </tbody>\n",
       "</table>\n",
       "</div>"
      ],
      "text/plain": [
       "         x1        x2        x3        x4        x5        x6        x7  \\\n",
       "0 -1.176962  1.193113 -0.221537  0.918915 -0.188261  0.209470 -0.459657   \n",
       "1  1.695051 -1.406317  0.043602 -1.504720 -0.692421 -1.320023  0.760056   \n",
       "2 -0.138264 -0.463418  0.496714  0.241962  0.542560 -0.234137 -1.913280   \n",
       "3  0.616664  0.609880  1.260850  0.794923 -0.310938 -1.075737  1.349135   \n",
       "4  0.626614  1.481961 -0.248616 -0.565576 -0.802280  2.154929 -0.471316   \n",
       "\n",
       "         x8        x9       x10       x11       x12       x13       x14  \\\n",
       "0 -1.079842  1.820544 -0.566395  0.831617 -0.005955  0.784003  1.021515   \n",
       "1  0.082440 -0.622649  0.194607 -0.742471 -0.037037 -0.429302 -0.083106   \n",
       "2 -1.724918  0.647689  1.523030 -0.234153  0.767435 -0.469474 -0.465730   \n",
       "3  1.058170  0.087974 -0.440275 -0.528998 -2.120087 -0.736064 -0.039926   \n",
       "4  0.718417  0.045564  0.623407  0.703440 -0.941023  0.246084 -0.283218   \n",
       "\n",
       "        x15  \n",
       "0 -0.984534  \n",
       "1 -0.611769  \n",
       "2  1.579213  \n",
       "3 -0.431456  \n",
       "4 -0.315297  "
      ]
     },
     "execution_count": 10,
     "metadata": {},
     "output_type": "execute_result"
    }
   ],
   "source": [
    "import pandas as pd\n",
    "X = pd.DataFrame(X)\n",
    "X.columns = cols\n",
    "X.head()"
   ]
  },
  {
   "cell_type": "code",
   "execution_count": 11,
   "metadata": {},
   "outputs": [
    {
     "data": {
      "text/html": [
       "<div>\n",
       "<style scoped>\n",
       "    .dataframe tbody tr th:only-of-type {\n",
       "        vertical-align: middle;\n",
       "    }\n",
       "\n",
       "    .dataframe tbody tr th {\n",
       "        vertical-align: top;\n",
       "    }\n",
       "\n",
       "    .dataframe thead th {\n",
       "        text-align: right;\n",
       "    }\n",
       "</style>\n",
       "<table border=\"1\" class=\"dataframe\">\n",
       "  <thead>\n",
       "    <tr style=\"text-align: right;\">\n",
       "      <th></th>\n",
       "      <th>y</th>\n",
       "    </tr>\n",
       "  </thead>\n",
       "  <tbody>\n",
       "    <tr>\n",
       "      <th>0</th>\n",
       "      <td>-42.092371</td>\n",
       "    </tr>\n",
       "    <tr>\n",
       "      <th>1</th>\n",
       "      <td>7.599483</td>\n",
       "    </tr>\n",
       "    <tr>\n",
       "      <th>2</th>\n",
       "      <td>259.342335</td>\n",
       "    </tr>\n",
       "    <tr>\n",
       "      <th>3</th>\n",
       "      <td>-116.773129</td>\n",
       "    </tr>\n",
       "    <tr>\n",
       "      <th>4</th>\n",
       "      <td>26.679849</td>\n",
       "    </tr>\n",
       "  </tbody>\n",
       "</table>\n",
       "</div>"
      ],
      "text/plain": [
       "            y\n",
       "0  -42.092371\n",
       "1    7.599483\n",
       "2  259.342335\n",
       "3 -116.773129\n",
       "4   26.679849"
      ]
     },
     "execution_count": 11,
     "metadata": {},
     "output_type": "execute_result"
    }
   ],
   "source": [
    "Y = pd.DataFrame(Y)\n",
    "Y.columns = ['y']\n",
    "Y.head()"
   ]
  },
  {
   "cell_type": "markdown",
   "metadata": {},
   "source": [
    "### Apply Preprocessing on X"
   ]
  },
  {
   "cell_type": "code",
   "execution_count": 12,
   "metadata": {},
   "outputs": [],
   "source": [
    "from sklearn.pipeline import Pipeline\n",
    "from sklearn.preprocessing import StandardScaler\n",
    "from sklearn.impute import SimpleImputer"
   ]
  },
  {
   "cell_type": "code",
   "execution_count": 13,
   "metadata": {},
   "outputs": [],
   "source": [
    "num_pipe = Pipeline(steps=[('impute',SimpleImputer(strategy='mean')),\n",
    "                           ('scaler',StandardScaler())]).set_output(transform='pandas')"
   ]
  },
  {
   "cell_type": "code",
   "execution_count": 14,
   "metadata": {},
   "outputs": [
    {
     "data": {
      "text/html": [
       "<div>\n",
       "<style scoped>\n",
       "    .dataframe tbody tr th:only-of-type {\n",
       "        vertical-align: middle;\n",
       "    }\n",
       "\n",
       "    .dataframe tbody tr th {\n",
       "        vertical-align: top;\n",
       "    }\n",
       "\n",
       "    .dataframe thead th {\n",
       "        text-align: right;\n",
       "    }\n",
       "</style>\n",
       "<table border=\"1\" class=\"dataframe\">\n",
       "  <thead>\n",
       "    <tr style=\"text-align: right;\">\n",
       "      <th></th>\n",
       "      <th>x1</th>\n",
       "      <th>x2</th>\n",
       "      <th>x3</th>\n",
       "      <th>x4</th>\n",
       "      <th>x5</th>\n",
       "      <th>x6</th>\n",
       "      <th>x7</th>\n",
       "      <th>x8</th>\n",
       "      <th>x9</th>\n",
       "      <th>x10</th>\n",
       "      <th>x11</th>\n",
       "      <th>x12</th>\n",
       "      <th>x13</th>\n",
       "      <th>x14</th>\n",
       "      <th>x15</th>\n",
       "    </tr>\n",
       "  </thead>\n",
       "  <tbody>\n",
       "    <tr>\n",
       "      <th>0</th>\n",
       "      <td>-1.199293</td>\n",
       "      <td>1.155898</td>\n",
       "      <td>-0.193221</td>\n",
       "      <td>0.933054</td>\n",
       "      <td>-0.182677</td>\n",
       "      <td>0.216018</td>\n",
       "      <td>-0.456107</td>\n",
       "      <td>-1.092772</td>\n",
       "      <td>1.824932</td>\n",
       "      <td>-0.574044</td>\n",
       "      <td>0.841678</td>\n",
       "      <td>0.017024</td>\n",
       "      <td>0.857201</td>\n",
       "      <td>0.971209</td>\n",
       "      <td>-1.009416</td>\n",
       "    </tr>\n",
       "    <tr>\n",
       "      <th>1</th>\n",
       "      <td>1.712028</td>\n",
       "      <td>-1.410221</td>\n",
       "      <td>0.064642</td>\n",
       "      <td>-1.469889</td>\n",
       "      <td>-0.692999</td>\n",
       "      <td>-1.301829</td>\n",
       "      <td>0.754315</td>\n",
       "      <td>0.081054</td>\n",
       "      <td>-0.652243</td>\n",
       "      <td>0.185379</td>\n",
       "      <td>-0.767294</td>\n",
       "      <td>-0.013752</td>\n",
       "      <td>-0.396293</td>\n",
       "      <td>-0.122887</td>\n",
       "      <td>-0.633136</td>\n",
       "    </tr>\n",
       "    <tr>\n",
       "      <th>2</th>\n",
       "      <td>-0.146379</td>\n",
       "      <td>-0.479405</td>\n",
       "      <td>0.505319</td>\n",
       "      <td>0.261881</td>\n",
       "      <td>0.557078</td>\n",
       "      <td>-0.224211</td>\n",
       "      <td>-1.898657</td>\n",
       "      <td>-1.744255</td>\n",
       "      <td>0.635764</td>\n",
       "      <td>1.511046</td>\n",
       "      <td>-0.247711</td>\n",
       "      <td>0.782780</td>\n",
       "      <td>-0.437795</td>\n",
       "      <td>-0.501865</td>\n",
       "      <td>1.578510</td>\n",
       "    </tr>\n",
       "    <tr>\n",
       "      <th>3</th>\n",
       "      <td>0.618882</td>\n",
       "      <td>0.580139</td>\n",
       "      <td>1.248484</td>\n",
       "      <td>0.810121</td>\n",
       "      <td>-0.306853</td>\n",
       "      <td>-1.059403</td>\n",
       "      <td>1.338907</td>\n",
       "      <td>1.066475</td>\n",
       "      <td>0.068264</td>\n",
       "      <td>-0.448186</td>\n",
       "      <td>-0.549091</td>\n",
       "      <td>-2.076242</td>\n",
       "      <td>-0.713215</td>\n",
       "      <td>-0.080119</td>\n",
       "      <td>-0.451122</td>\n",
       "    </tr>\n",
       "    <tr>\n",
       "      <th>4</th>\n",
       "      <td>0.628967</td>\n",
       "      <td>1.441044</td>\n",
       "      <td>-0.219557</td>\n",
       "      <td>-0.538763</td>\n",
       "      <td>-0.804201</td>\n",
       "      <td>2.146665</td>\n",
       "      <td>-0.467677</td>\n",
       "      <td>0.723348</td>\n",
       "      <td>0.025264</td>\n",
       "      <td>0.613289</td>\n",
       "      <td>0.710661</td>\n",
       "      <td>-0.908815</td>\n",
       "      <td>0.301464</td>\n",
       "      <td>-0.321092</td>\n",
       "      <td>-0.333867</td>\n",
       "    </tr>\n",
       "  </tbody>\n",
       "</table>\n",
       "</div>"
      ],
      "text/plain": [
       "         x1        x2        x3        x4        x5        x6        x7  \\\n",
       "0 -1.199293  1.155898 -0.193221  0.933054 -0.182677  0.216018 -0.456107   \n",
       "1  1.712028 -1.410221  0.064642 -1.469889 -0.692999 -1.301829  0.754315   \n",
       "2 -0.146379 -0.479405  0.505319  0.261881  0.557078 -0.224211 -1.898657   \n",
       "3  0.618882  0.580139  1.248484  0.810121 -0.306853 -1.059403  1.338907   \n",
       "4  0.628967  1.441044 -0.219557 -0.538763 -0.804201  2.146665 -0.467677   \n",
       "\n",
       "         x8        x9       x10       x11       x12       x13       x14  \\\n",
       "0 -1.092772  1.824932 -0.574044  0.841678  0.017024  0.857201  0.971209   \n",
       "1  0.081054 -0.652243  0.185379 -0.767294 -0.013752 -0.396293 -0.122887   \n",
       "2 -1.744255  0.635764  1.511046 -0.247711  0.782780 -0.437795 -0.501865   \n",
       "3  1.066475  0.068264 -0.448186 -0.549091 -2.076242 -0.713215 -0.080119   \n",
       "4  0.723348  0.025264  0.613289  0.710661 -0.908815  0.301464 -0.321092   \n",
       "\n",
       "        x15  \n",
       "0 -1.009416  \n",
       "1 -0.633136  \n",
       "2  1.578510  \n",
       "3 -0.451122  \n",
       "4 -0.333867  "
      ]
     },
     "execution_count": 14,
     "metadata": {},
     "output_type": "execute_result"
    }
   ],
   "source": [
    "X_pre = num_pipe.fit_transform(X)\n",
    "X_pre.head()"
   ]
  },
  {
   "cell_type": "markdown",
   "metadata": {},
   "source": [
    "### Apply Train Test Split"
   ]
  },
  {
   "cell_type": "code",
   "execution_count": 15,
   "metadata": {},
   "outputs": [],
   "source": [
    "from sklearn.model_selection import train_test_split\n",
    "xtrain, xtest, ytrain, ytest = train_test_split(X_pre, Y, test_size=0.2, random_state=21)"
   ]
  },
  {
   "cell_type": "code",
   "execution_count": 16,
   "metadata": {},
   "outputs": [
    {
     "data": {
      "text/html": [
       "<div>\n",
       "<style scoped>\n",
       "    .dataframe tbody tr th:only-of-type {\n",
       "        vertical-align: middle;\n",
       "    }\n",
       "\n",
       "    .dataframe tbody tr th {\n",
       "        vertical-align: top;\n",
       "    }\n",
       "\n",
       "    .dataframe thead th {\n",
       "        text-align: right;\n",
       "    }\n",
       "</style>\n",
       "<table border=\"1\" class=\"dataframe\">\n",
       "  <thead>\n",
       "    <tr style=\"text-align: right;\">\n",
       "      <th></th>\n",
       "      <th>x1</th>\n",
       "      <th>x2</th>\n",
       "      <th>x3</th>\n",
       "      <th>x4</th>\n",
       "      <th>x5</th>\n",
       "      <th>x6</th>\n",
       "      <th>x7</th>\n",
       "      <th>x8</th>\n",
       "      <th>x9</th>\n",
       "      <th>x10</th>\n",
       "      <th>x11</th>\n",
       "      <th>x12</th>\n",
       "      <th>x13</th>\n",
       "      <th>x14</th>\n",
       "      <th>x15</th>\n",
       "    </tr>\n",
       "  </thead>\n",
       "  <tbody>\n",
       "    <tr>\n",
       "      <th>1490</th>\n",
       "      <td>-0.060969</td>\n",
       "      <td>1.223370</td>\n",
       "      <td>-1.117881</td>\n",
       "      <td>1.699192</td>\n",
       "      <td>0.950085</td>\n",
       "      <td>-0.125100</td>\n",
       "      <td>-1.187772</td>\n",
       "      <td>-0.414699</td>\n",
       "      <td>-1.696158</td>\n",
       "      <td>-0.240983</td>\n",
       "      <td>-0.459524</td>\n",
       "      <td>-1.469880</td>\n",
       "      <td>-0.331248</td>\n",
       "      <td>2.375518</td>\n",
       "      <td>-0.580194</td>\n",
       "    </tr>\n",
       "    <tr>\n",
       "      <th>965</th>\n",
       "      <td>-1.052313</td>\n",
       "      <td>2.341753</td>\n",
       "      <td>-1.178398</td>\n",
       "      <td>-0.658868</td>\n",
       "      <td>0.732369</td>\n",
       "      <td>-1.218581</td>\n",
       "      <td>1.611564</td>\n",
       "      <td>0.384769</td>\n",
       "      <td>-0.467316</td>\n",
       "      <td>1.276579</td>\n",
       "      <td>0.006462</td>\n",
       "      <td>0.746705</td>\n",
       "      <td>0.603499</td>\n",
       "      <td>2.123701</td>\n",
       "      <td>1.250572</td>\n",
       "    </tr>\n",
       "    <tr>\n",
       "      <th>1216</th>\n",
       "      <td>-0.584369</td>\n",
       "      <td>0.179143</td>\n",
       "      <td>0.230313</td>\n",
       "      <td>-0.479413</td>\n",
       "      <td>0.455451</td>\n",
       "      <td>0.699323</td>\n",
       "      <td>0.522285</td>\n",
       "      <td>0.015527</td>\n",
       "      <td>1.589255</td>\n",
       "      <td>-0.591205</td>\n",
       "      <td>-1.169224</td>\n",
       "      <td>-0.514301</td>\n",
       "      <td>0.150775</td>\n",
       "      <td>0.413993</td>\n",
       "      <td>0.446454</td>\n",
       "    </tr>\n",
       "    <tr>\n",
       "      <th>500</th>\n",
       "      <td>0.670129</td>\n",
       "      <td>1.045534</td>\n",
       "      <td>-1.873852</td>\n",
       "      <td>-0.815506</td>\n",
       "      <td>0.884143</td>\n",
       "      <td>-0.836162</td>\n",
       "      <td>1.305848</td>\n",
       "      <td>0.650962</td>\n",
       "      <td>0.976485</td>\n",
       "      <td>-1.344771</td>\n",
       "      <td>-0.913665</td>\n",
       "      <td>-0.454043</td>\n",
       "      <td>0.297868</td>\n",
       "      <td>-0.870413</td>\n",
       "      <td>-0.751260</td>\n",
       "    </tr>\n",
       "    <tr>\n",
       "      <th>403</th>\n",
       "      <td>0.722022</td>\n",
       "      <td>0.265715</td>\n",
       "      <td>-1.739688</td>\n",
       "      <td>0.175313</td>\n",
       "      <td>-0.184968</td>\n",
       "      <td>1.635613</td>\n",
       "      <td>0.490804</td>\n",
       "      <td>-1.143954</td>\n",
       "      <td>0.205189</td>\n",
       "      <td>0.001642</td>\n",
       "      <td>-1.439453</td>\n",
       "      <td>0.551279</td>\n",
       "      <td>-1.455512</td>\n",
       "      <td>0.283386</td>\n",
       "      <td>-0.523701</td>\n",
       "    </tr>\n",
       "  </tbody>\n",
       "</table>\n",
       "</div>"
      ],
      "text/plain": [
       "            x1        x2        x3        x4        x5        x6        x7  \\\n",
       "1490 -0.060969  1.223370 -1.117881  1.699192  0.950085 -0.125100 -1.187772   \n",
       "965  -1.052313  2.341753 -1.178398 -0.658868  0.732369 -1.218581  1.611564   \n",
       "1216 -0.584369  0.179143  0.230313 -0.479413  0.455451  0.699323  0.522285   \n",
       "500   0.670129  1.045534 -1.873852 -0.815506  0.884143 -0.836162  1.305848   \n",
       "403   0.722022  0.265715 -1.739688  0.175313 -0.184968  1.635613  0.490804   \n",
       "\n",
       "            x8        x9       x10       x11       x12       x13       x14  \\\n",
       "1490 -0.414699 -1.696158 -0.240983 -0.459524 -1.469880 -0.331248  2.375518   \n",
       "965   0.384769 -0.467316  1.276579  0.006462  0.746705  0.603499  2.123701   \n",
       "1216  0.015527  1.589255 -0.591205 -1.169224 -0.514301  0.150775  0.413993   \n",
       "500   0.650962  0.976485 -1.344771 -0.913665 -0.454043  0.297868 -0.870413   \n",
       "403  -1.143954  0.205189  0.001642 -1.439453  0.551279 -1.455512  0.283386   \n",
       "\n",
       "           x15  \n",
       "1490 -0.580194  \n",
       "965   1.250572  \n",
       "1216  0.446454  \n",
       "500  -0.751260  \n",
       "403  -0.523701  "
      ]
     },
     "execution_count": 16,
     "metadata": {},
     "output_type": "execute_result"
    }
   ],
   "source": [
    "xtrain.head()"
   ]
  },
  {
   "cell_type": "code",
   "execution_count": 17,
   "metadata": {},
   "outputs": [
    {
     "data": {
      "text/html": [
       "<div>\n",
       "<style scoped>\n",
       "    .dataframe tbody tr th:only-of-type {\n",
       "        vertical-align: middle;\n",
       "    }\n",
       "\n",
       "    .dataframe tbody tr th {\n",
       "        vertical-align: top;\n",
       "    }\n",
       "\n",
       "    .dataframe thead th {\n",
       "        text-align: right;\n",
       "    }\n",
       "</style>\n",
       "<table border=\"1\" class=\"dataframe\">\n",
       "  <thead>\n",
       "    <tr style=\"text-align: right;\">\n",
       "      <th></th>\n",
       "      <th>y</th>\n",
       "    </tr>\n",
       "  </thead>\n",
       "  <tbody>\n",
       "    <tr>\n",
       "      <th>1490</th>\n",
       "      <td>-356.925477</td>\n",
       "    </tr>\n",
       "    <tr>\n",
       "      <th>965</th>\n",
       "      <td>8.515626</td>\n",
       "    </tr>\n",
       "    <tr>\n",
       "      <th>1216</th>\n",
       "      <td>-44.958454</td>\n",
       "    </tr>\n",
       "    <tr>\n",
       "      <th>500</th>\n",
       "      <td>-218.346383</td>\n",
       "    </tr>\n",
       "    <tr>\n",
       "      <th>403</th>\n",
       "      <td>-211.774828</td>\n",
       "    </tr>\n",
       "  </tbody>\n",
       "</table>\n",
       "</div>"
      ],
      "text/plain": [
       "               y\n",
       "1490 -356.925477\n",
       "965     8.515626\n",
       "1216  -44.958454\n",
       "500  -218.346383\n",
       "403  -211.774828"
      ]
     },
     "execution_count": 17,
     "metadata": {},
     "output_type": "execute_result"
    }
   ],
   "source": [
    "ytrain.head()"
   ]
  },
  {
   "cell_type": "code",
   "execution_count": 18,
   "metadata": {},
   "outputs": [
    {
     "data": {
      "text/html": [
       "<div>\n",
       "<style scoped>\n",
       "    .dataframe tbody tr th:only-of-type {\n",
       "        vertical-align: middle;\n",
       "    }\n",
       "\n",
       "    .dataframe tbody tr th {\n",
       "        vertical-align: top;\n",
       "    }\n",
       "\n",
       "    .dataframe thead th {\n",
       "        text-align: right;\n",
       "    }\n",
       "</style>\n",
       "<table border=\"1\" class=\"dataframe\">\n",
       "  <thead>\n",
       "    <tr style=\"text-align: right;\">\n",
       "      <th></th>\n",
       "      <th>x1</th>\n",
       "      <th>x2</th>\n",
       "      <th>x3</th>\n",
       "      <th>x4</th>\n",
       "      <th>x5</th>\n",
       "      <th>x6</th>\n",
       "      <th>x7</th>\n",
       "      <th>x8</th>\n",
       "      <th>x9</th>\n",
       "      <th>x10</th>\n",
       "      <th>x11</th>\n",
       "      <th>x12</th>\n",
       "      <th>x13</th>\n",
       "      <th>x14</th>\n",
       "      <th>x15</th>\n",
       "    </tr>\n",
       "  </thead>\n",
       "  <tbody>\n",
       "    <tr>\n",
       "      <th>541</th>\n",
       "      <td>0.017174</td>\n",
       "      <td>0.487604</td>\n",
       "      <td>-1.858775</td>\n",
       "      <td>-0.583974</td>\n",
       "      <td>-0.387295</td>\n",
       "      <td>-0.065636</td>\n",
       "      <td>-0.523923</td>\n",
       "      <td>1.364303</td>\n",
       "      <td>0.612662</td>\n",
       "      <td>0.184223</td>\n",
       "      <td>1.330525</td>\n",
       "      <td>0.609403</td>\n",
       "      <td>0.149833</td>\n",
       "      <td>-0.686883</td>\n",
       "      <td>-0.201889</td>\n",
       "    </tr>\n",
       "    <tr>\n",
       "      <th>1211</th>\n",
       "      <td>1.989584</td>\n",
       "      <td>0.520781</td>\n",
       "      <td>-0.663736</td>\n",
       "      <td>0.289728</td>\n",
       "      <td>0.366811</td>\n",
       "      <td>-0.105800</td>\n",
       "      <td>1.388020</td>\n",
       "      <td>-0.255551</td>\n",
       "      <td>-0.678308</td>\n",
       "      <td>-1.673148</td>\n",
       "      <td>0.870878</td>\n",
       "      <td>-0.517249</td>\n",
       "      <td>1.980942</td>\n",
       "      <td>0.120493</td>\n",
       "      <td>-0.321497</td>\n",
       "    </tr>\n",
       "    <tr>\n",
       "      <th>1862</th>\n",
       "      <td>1.994875</td>\n",
       "      <td>0.765938</td>\n",
       "      <td>1.021518</td>\n",
       "      <td>1.917269</td>\n",
       "      <td>0.849549</td>\n",
       "      <td>1.450914</td>\n",
       "      <td>-0.636232</td>\n",
       "      <td>-0.269903</td>\n",
       "      <td>0.361577</td>\n",
       "      <td>-0.195664</td>\n",
       "      <td>1.047174</td>\n",
       "      <td>-0.691528</td>\n",
       "      <td>0.190685</td>\n",
       "      <td>-1.451170</td>\n",
       "      <td>-0.500088</td>\n",
       "    </tr>\n",
       "    <tr>\n",
       "      <th>1094</th>\n",
       "      <td>-0.494729</td>\n",
       "      <td>0.040776</td>\n",
       "      <td>0.493296</td>\n",
       "      <td>-0.968645</td>\n",
       "      <td>-0.514568</td>\n",
       "      <td>0.181483</td>\n",
       "      <td>0.370887</td>\n",
       "      <td>1.480873</td>\n",
       "      <td>-0.019259</td>\n",
       "      <td>0.932903</td>\n",
       "      <td>-0.074686</td>\n",
       "      <td>-0.044944</td>\n",
       "      <td>-2.031415</td>\n",
       "      <td>0.719149</td>\n",
       "      <td>-1.566040</td>\n",
       "    </tr>\n",
       "    <tr>\n",
       "      <th>465</th>\n",
       "      <td>-1.786021</td>\n",
       "      <td>1.009215</td>\n",
       "      <td>-0.839413</td>\n",
       "      <td>1.409137</td>\n",
       "      <td>-0.067810</td>\n",
       "      <td>0.024226</td>\n",
       "      <td>0.616150</td>\n",
       "      <td>-0.626137</td>\n",
       "      <td>-2.015388</td>\n",
       "      <td>-1.476154</td>\n",
       "      <td>1.383343</td>\n",
       "      <td>0.554112</td>\n",
       "      <td>0.105274</td>\n",
       "      <td>0.104032</td>\n",
       "      <td>0.490380</td>\n",
       "    </tr>\n",
       "  </tbody>\n",
       "</table>\n",
       "</div>"
      ],
      "text/plain": [
       "            x1        x2        x3        x4        x5        x6        x7  \\\n",
       "541   0.017174  0.487604 -1.858775 -0.583974 -0.387295 -0.065636 -0.523923   \n",
       "1211  1.989584  0.520781 -0.663736  0.289728  0.366811 -0.105800  1.388020   \n",
       "1862  1.994875  0.765938  1.021518  1.917269  0.849549  1.450914 -0.636232   \n",
       "1094 -0.494729  0.040776  0.493296 -0.968645 -0.514568  0.181483  0.370887   \n",
       "465  -1.786021  1.009215 -0.839413  1.409137 -0.067810  0.024226  0.616150   \n",
       "\n",
       "            x8        x9       x10       x11       x12       x13       x14  \\\n",
       "541   1.364303  0.612662  0.184223  1.330525  0.609403  0.149833 -0.686883   \n",
       "1211 -0.255551 -0.678308 -1.673148  0.870878 -0.517249  1.980942  0.120493   \n",
       "1862 -0.269903  0.361577 -0.195664  1.047174 -0.691528  0.190685 -1.451170   \n",
       "1094  1.480873 -0.019259  0.932903 -0.074686 -0.044944 -2.031415  0.719149   \n",
       "465  -0.626137 -2.015388 -1.476154  1.383343  0.554112  0.105274  0.104032   \n",
       "\n",
       "           x15  \n",
       "541  -0.201889  \n",
       "1211 -0.321497  \n",
       "1862 -0.500088  \n",
       "1094 -1.566040  \n",
       "465   0.490380  "
      ]
     },
     "execution_count": 18,
     "metadata": {},
     "output_type": "execute_result"
    }
   ],
   "source": [
    "xtest.head()"
   ]
  },
  {
   "cell_type": "code",
   "execution_count": 19,
   "metadata": {},
   "outputs": [
    {
     "data": {
      "text/html": [
       "<div>\n",
       "<style scoped>\n",
       "    .dataframe tbody tr th:only-of-type {\n",
       "        vertical-align: middle;\n",
       "    }\n",
       "\n",
       "    .dataframe tbody tr th {\n",
       "        vertical-align: top;\n",
       "    }\n",
       "\n",
       "    .dataframe thead th {\n",
       "        text-align: right;\n",
       "    }\n",
       "</style>\n",
       "<table border=\"1\" class=\"dataframe\">\n",
       "  <thead>\n",
       "    <tr style=\"text-align: right;\">\n",
       "      <th></th>\n",
       "      <th>y</th>\n",
       "    </tr>\n",
       "  </thead>\n",
       "  <tbody>\n",
       "    <tr>\n",
       "      <th>541</th>\n",
       "      <td>-7.918092</td>\n",
       "    </tr>\n",
       "    <tr>\n",
       "      <th>1211</th>\n",
       "      <td>91.934687</td>\n",
       "    </tr>\n",
       "    <tr>\n",
       "      <th>1862</th>\n",
       "      <td>259.032574</td>\n",
       "    </tr>\n",
       "    <tr>\n",
       "      <th>1094</th>\n",
       "      <td>-191.626509</td>\n",
       "    </tr>\n",
       "    <tr>\n",
       "      <th>465</th>\n",
       "      <td>-196.558008</td>\n",
       "    </tr>\n",
       "  </tbody>\n",
       "</table>\n",
       "</div>"
      ],
      "text/plain": [
       "               y\n",
       "541    -7.918092\n",
       "1211   91.934687\n",
       "1862  259.032574\n",
       "1094 -191.626509\n",
       "465  -196.558008"
      ]
     },
     "execution_count": 19,
     "metadata": {},
     "output_type": "execute_result"
    }
   ],
   "source": [
    "ytest.head()"
   ]
  },
  {
   "cell_type": "code",
   "execution_count": 20,
   "metadata": {},
   "outputs": [
    {
     "data": {
      "text/plain": [
       "(1600, 15)"
      ]
     },
     "execution_count": 20,
     "metadata": {},
     "output_type": "execute_result"
    }
   ],
   "source": [
    "xtrain.shape"
   ]
  },
  {
   "cell_type": "code",
   "execution_count": 21,
   "metadata": {},
   "outputs": [
    {
     "data": {
      "text/plain": [
       "(400, 15)"
      ]
     },
     "execution_count": 21,
     "metadata": {},
     "output_type": "execute_result"
    }
   ],
   "source": [
    "xtest.shape"
   ]
  },
  {
   "cell_type": "markdown",
   "metadata": {},
   "source": [
    "### Build Neural Network"
   ]
  },
  {
   "attachments": {
    "image.png": {
     "image/png": "[encoded data removed]"
    }
   },
   "cell_type": "markdown",
   "metadata": {},
   "source": [
    "![image.png](attachment:image.png)"
   ]
  },
  {
   "cell_type": "code",
   "execution_count": 22,
   "metadata": {},
   "outputs": [
    {
     "name": "stdout",
     "output_type": "stream",
     "text": [
      "Requirement already satisfied: keras in c:\\deep learning\\repository\\venv\\lib\\site-packages (2.15.0)Note: you may need to restart the kernel to use updated packages.\n",
      "\n",
      "Requirement already satisfied: tensorflow in c:\\deep learning\\repository\\venv\\lib\\site-packages (2.15.0)\n",
      "Requirement already satisfied: tensorflow-intel==2.15.0 in c:\\deep learning\\repository\\venv\\lib\\site-packages (from tensorflow) (2.15.0)\n",
      "Requirement already satisfied: absl-py>=1.0.0 in c:\\deep learning\\repository\\venv\\lib\\site-packages (from tensorflow-intel==2.15.0->tensorflow) (2.1.0)\n",
      "Requirement already satisfied: astunparse>=1.6.0 in c:\\deep learning\\repository\\venv\\lib\\site-packages (from tensorflow-intel==2.15.0->tensorflow) (1.6.3)\n",
      "Requirement already satisfied: flatbuffers>=23.5.26 in c:\\deep learning\\repository\\venv\\lib\\site-packages (from tensorflow-intel==2.15.0->tensorflow) (23.5.26)\n",
      "Requirement already satisfied: gast!=0.5.0,!=0.5.1,!=0.5.2,>=0.2.1 in c:\\deep learning\\repository\\venv\\lib\\site-packages (from tensorflow-intel==2.15.0->tensorflow) (0.5.4)\n",
      "Requirement already satisfied: google-pasta>=0.1.1 in c:\\deep learning\\repository\\venv\\lib\\site-packages (from tensorflow-intel==2.15.0->tensorflow) (0.2.0)\n",
      "Requirement already satisfied: h5py>=2.9.0 in c:\\deep learning\\repository\\venv\\lib\\site-packages (from tensorflow-intel==2.15.0->tensorflow) (3.10.0)\n",
      "Requirement already satisfied: libclang>=13.0.0 in c:\\deep learning\\repository\\venv\\lib\\site-packages (from tensorflow-intel==2.15.0->tensorflow) (16.0.6)\n",
      "Requirement already satisfied: ml-dtypes~=0.2.0 in c:\\deep learning\\repository\\venv\\lib\\site-packages (from tensorflow-intel==2.15.0->tensorflow) (0.2.0)\n",
      "Requirement already satisfied: numpy<2.0.0,>=1.23.5 in c:\\deep learning\\repository\\venv\\lib\\site-packages (from tensorflow-intel==2.15.0->tensorflow) (1.26.4)\n",
      "Requirement already satisfied: opt-einsum>=2.3.2 in c:\\deep learning\\repository\\venv\\lib\\site-packages (from tensorflow-intel==2.15.0->tensorflow) (3.3.0)\n",
      "Requirement already satisfied: packaging in c:\\deep learning\\repository\\venv\\lib\\site-packages (from tensorflow-intel==2.15.0->tensorflow) (23.2)\n",
      "Requirement already satisfied: protobuf!=4.21.0,!=4.21.1,!=4.21.2,!=4.21.3,!=4.21.4,!=4.21.5,<5.0.0dev,>=3.20.3 in c:\\deep learning\\repository\\venv\\lib\\site-packages (from tensorflow-intel==2.15.0->tensorflow) (4.25.2)\n",
      "Requirement already satisfied: setuptools in c:\\deep learning\\repository\\venv\\lib\\site-packages (from tensorflow-intel==2.15.0->tensorflow) (65.5.0)\n",
      "Requirement already satisfied: six>=1.12.0 in c:\\deep learning\\repository\\venv\\lib\\site-packages (from tensorflow-intel==2.15.0->tensorflow) (1.16.0)\n",
      "Requirement already satisfied: termcolor>=1.1.0 in c:\\deep learning\\repository\\venv\\lib\\site-packages (from tensorflow-intel==2.15.0->tensorflow) (2.4.0)\n",
      "Requirement already satisfied: typing-extensions>=3.6.6 in c:\\deep learning\\repository\\venv\\lib\\site-packages (from tensorflow-intel==2.15.0->tensorflow) (4.9.0)\n",
      "Requirement already satisfied: wrapt<1.15,>=1.11.0 in c:\\deep learning\\repository\\venv\\lib\\site-packages (from tensorflow-intel==2.15.0->tensorflow) (1.14.1)\n",
      "Requirement already satisfied: tensorflow-io-gcs-filesystem>=0.23.1 in c:\\deep learning\\repository\\venv\\lib\\site-packages (from tensorflow-intel==2.15.0->tensorflow) (0.31.0)\n",
      "Requirement already satisfied: grpcio<2.0,>=1.24.3 in c:\\deep learning\\repository\\venv\\lib\\site-packages (from tensorflow-intel==2.15.0->tensorflow) (1.60.1)\n",
      "Requirement already satisfied: tensorboard<2.16,>=2.15 in c:\\deep learning\\repository\\venv\\lib\\site-packages (from tensorflow-intel==2.15.0->tensorflow) (2.15.2)\n",
      "Requirement already satisfied: tensorflow-estimator<2.16,>=2.15.0 in c:\\deep learning\\repository\\venv\\lib\\site-packages (from tensorflow-intel==2.15.0->tensorflow) (2.15.0)\n",
      "Requirement already satisfied: keras<2.16,>=2.15.0 in c:\\deep learning\\repository\\venv\\lib\\site-packages (from tensorflow-intel==2.15.0->tensorflow) (2.15.0)\n",
      "Requirement already satisfied: wheel<1.0,>=0.23.0 in c:\\deep learning\\repository\\venv\\lib\\site-packages (from astunparse>=1.6.0->tensorflow-intel==2.15.0->tensorflow) (0.42.0)\n",
      "Requirement already satisfied: google-auth<3,>=1.6.3 in c:\\deep learning\\repository\\venv\\lib\\site-packages (from tensorboard<2.16,>=2.15->tensorflow-intel==2.15.0->tensorflow) (2.27.0)\n",
      "Requirement already satisfied: google-auth-oauthlib<2,>=0.5 in c:\\deep learning\\repository\\venv\\lib\\site-packages (from tensorboard<2.16,>=2.15->tensorflow-intel==2.15.0->tensorflow) (1.2.0)\n",
      "Requirement already satisfied: markdown>=2.6.8 in c:\\deep learning\\repository\\venv\\lib\\site-packages (from tensorboard<2.16,>=2.15->tensorflow-intel==2.15.0->tensorflow) (3.5.2)\n",
      "Requirement already satisfied: requests<3,>=2.21.0 in c:\\deep learning\\repository\\venv\\lib\\site-packages (from tensorboard<2.16,>=2.15->tensorflow-intel==2.15.0->tensorflow) (2.31.0)\n",
      "Requirement already satisfied: tensorboard-data-server<0.8.0,>=0.7.0 in c:\\deep learning\\repository\\venv\\lib\\site-packages (from tensorboard<2.16,>=2.15->tensorflow-intel==2.15.0->tensorflow) (0.7.2)\n",
      "Requirement already satisfied: werkzeug>=1.0.1 in c:\\deep learning\\repository\\venv\\lib\\site-packages (from tensorboard<2.16,>=2.15->tensorflow-intel==2.15.0->tensorflow) (3.0.1)\n",
      "Requirement already satisfied: cachetools<6.0,>=2.0.0 in c:\\deep learning\\repository\\venv\\lib\\site-packages (from google-auth<3,>=1.6.3->tensorboard<2.16,>=2.15->tensorflow-intel==2.15.0->tensorflow) (5.3.2)\n",
      "Requirement already satisfied: pyasn1-modules>=0.2.1 in c:\\deep learning\\repository\\venv\\lib\\site-packages (from google-auth<3,>=1.6.3->tensorboard<2.16,>=2.15->tensorflow-intel==2.15.0->tensorflow) (0.3.0)\n",
      "Requirement already satisfied: rsa<5,>=3.1.4 in c:\\deep learning\\repository\\venv\\lib\\site-packages (from google-auth<3,>=1.6.3->tensorboard<2.16,>=2.15->tensorflow-intel==2.15.0->tensorflow) (4.9)\n",
      "Requirement already satisfied: requests-oauthlib>=0.7.0 in c:\\deep learning\\repository\\venv\\lib\\site-packages (from google-auth-oauthlib<2,>=0.5->tensorboard<2.16,>=2.15->tensorflow-intel==2.15.0->tensorflow) (1.3.1)\n",
      "Requirement already satisfied: charset-normalizer<4,>=2 in c:\\deep learning\\repository\\venv\\lib\\site-packages (from requests<3,>=2.21.0->tensorboard<2.16,>=2.15->tensorflow-intel==2.15.0->tensorflow) (3.3.2)\n",
      "Requirement already satisfied: idna<4,>=2.5 in c:\\deep learning\\repository\\venv\\lib\\site-packages (from requests<3,>=2.21.0->tensorboard<2.16,>=2.15->tensorflow-intel==2.15.0->tensorflow) (3.6)\n",
      "Requirement already satisfied: urllib3<3,>=1.21.1 in c:\\deep learning\\repository\\venv\\lib\\site-packages (from requests<3,>=2.21.0->tensorboard<2.16,>=2.15->tensorflow-intel==2.15.0->tensorflow) (2.2.0)\n",
      "Requirement already satisfied: certifi>=2017.4.17 in c:\\deep learning\\repository\\venv\\lib\\site-packages (from requests<3,>=2.21.0->tensorboard<2.16,>=2.15->tensorflow-intel==2.15.0->tensorflow) (2024.2.2)\n",
      "Requirement already satisfied: MarkupSafe>=2.1.1 in c:\\deep learning\\repository\\venv\\lib\\site-packages (from werkzeug>=1.0.1->tensorboard<2.16,>=2.15->tensorflow-intel==2.15.0->tensorflow) (2.1.5)\n",
      "Requirement already satisfied: pyasn1<0.6.0,>=0.4.6 in c:\\deep learning\\repository\\venv\\lib\\site-packages (from pyasn1-modules>=0.2.1->google-auth<3,>=1.6.3->tensorboard<2.16,>=2.15->tensorflow-intel==2.15.0->tensorflow) (0.5.1)\n",
      "Requirement already satisfied: oauthlib>=3.0.0 in c:\\deep learning\\repository\\venv\\lib\\site-packages (from requests-oauthlib>=0.7.0->google-auth-oauthlib<2,>=0.5->tensorboard<2.16,>=2.15->tensorflow-intel==2.15.0->tensorflow) (3.2.2)\n",
      "Note: you may need to restart the kernel to use updated packages.\n"
     ]
    }
   ],
   "source": [
    "%pip install keras\n",
    "%pip install tensorflow\n"
   ]
  },
  {
   "cell_type": "code",
   "execution_count": 23,
   "metadata": {},
   "outputs": [
    {
     "name": "stdout",
     "output_type": "stream",
     "text": [
      "WARNING:tensorflow:From c:\\Deep Learning\\repository\\venv\\Lib\\site-packages\\keras\\src\\losses.py:2976: The name tf.losses.sparse_softmax_cross_entropy is deprecated. Please use tf.compat.v1.losses.sparse_softmax_cross_entropy instead.\n",
      "\n"
     ]
    }
   ],
   "source": [
    "from keras.models import Sequential\n",
    "from keras.layers import Dense"
   ]
  },
  {
   "cell_type": "code",
   "execution_count": 24,
   "metadata": {},
   "outputs": [
    {
     "name": "stdout",
     "output_type": "stream",
     "text": [
      "WARNING:tensorflow:From c:\\Deep Learning\\repository\\venv\\Lib\\site-packages\\keras\\src\\backend.py:873: The name tf.get_default_graph is deprecated. Please use tf.compat.v1.get_default_graph instead.\n",
      "\n"
     ]
    }
   ],
   "source": [
    "# Initialize neural Network\n",
    "model = Sequential()\n",
    "\n",
    "# Add first hidden layer\n",
    "model.add(Dense(units=32, activation='relu', input_shape = (xtrain.shape[1],)))\n",
    "# Add second hidden layer\n",
    "model.add(Dense(units=16, activation='relu'))\n",
    "# Output layer\n",
    "model.add(Dense(units=1, activation='linear'))"
   ]
  },
  {
   "cell_type": "markdown",
   "metadata": {},
   "source": [
    "### Compile the model"
   ]
  },
  {
   "cell_type": "code",
   "execution_count": 25,
   "metadata": {},
   "outputs": [
    {
     "name": "stdout",
     "output_type": "stream",
     "text": [
      "WARNING:tensorflow:From c:\\Deep Learning\\repository\\venv\\Lib\\site-packages\\keras\\src\\optimizers\\__init__.py:309: The name tf.train.Optimizer is deprecated. Please use tf.compat.v1.train.Optimizer instead.\n",
      "\n"
     ]
    }
   ],
   "source": [
    "model.compile(optimizer='adam', loss='mse', metrics=['mae'])"
   ]
  },
  {
   "cell_type": "markdown",
   "metadata": {},
   "source": [
    "### Train the Neural Network"
   ]
  },
  {
   "cell_type": "code",
   "execution_count": 26,
   "metadata": {},
   "outputs": [
    {
     "name": "stdout",
     "output_type": "stream",
     "text": [
      "Epoch 1/100\n",
      "WARNING:tensorflow:From c:\\Deep Learning\\repository\\venv\\Lib\\site-packages\\keras\\src\\utils\\tf_utils.py:492: The name tf.ragged.RaggedTensorValue is deprecated. Please use tf.compat.v1.ragged.RaggedTensorValue instead.\n",
      "\n",
      "WARNING:tensorflow:From c:\\Deep Learning\\repository\\venv\\Lib\\site-packages\\keras\\src\\engine\\base_layer_utils.py:384: The name tf.executing_eagerly_outside_functions is deprecated. Please use tf.compat.v1.executing_eagerly_outside_functions instead.\n",
      "\n",
      "50/50 [==============================] - 2s 10ms/step - loss: 32959.0898 - mae: 144.3709 - val_loss: 32116.3008 - val_mae: 145.1274\n",
      "Epoch 2/100\n",
      "50/50 [==============================] - 0s 4ms/step - loss: 32620.1855 - mae: 143.6071 - val_loss: 31634.9746 - val_mae: 143.9942\n",
      "Epoch 3/100\n",
      "50/50 [==============================] - 0s 4ms/step - loss: 31787.3945 - mae: 141.6467 - val_loss: 30443.4570 - val_mae: 141.1182\n",
      "Epoch 4/100\n",
      "50/50 [==============================] - 0s 4ms/step - loss: 29917.0430 - mae: 137.1086 - val_loss: 27965.3848 - val_mae: 134.8961\n",
      "Epoch 5/100\n",
      "50/50 [==============================] - 0s 4ms/step - loss: 26462.4746 - mae: 128.2419 - val_loss: 23792.5273 - val_mae: 123.5818\n",
      "Epoch 6/100\n",
      "50/50 [==============================] - 0s 4ms/step - loss: 21294.2051 - mae: 114.0067 - val_loss: 18156.5645 - val_mae: 106.4528\n",
      "Epoch 7/100\n",
      "50/50 [==============================] - 0s 3ms/step - loss: 15129.6338 - mae: 94.0080 - val_loss: 11966.0078 - val_mae: 83.9856\n",
      "Epoch 8/100\n",
      "50/50 [==============================] - 0s 4ms/step - loss: 9219.4629 - mae: 70.8973 - val_loss: 6907.8633 - val_mae: 61.1707\n",
      "Epoch 9/100\n",
      "50/50 [==============================] - 0s 4ms/step - loss: 4934.5493 - mae: 49.9496 - val_loss: 3543.6960 - val_mae: 41.6243\n",
      "Epoch 10/100\n",
      "50/50 [==============================] - 0s 3ms/step - loss: 2478.5420 - mae: 34.7955 - val_loss: 1827.5686 - val_mae: 29.2381\n",
      "Epoch 11/100\n",
      "50/50 [==============================] - 0s 3ms/step - loss: 1338.8293 - mae: 26.4627 - val_loss: 1101.6024 - val_mae: 23.2113\n",
      "Epoch 12/100\n",
      "50/50 [==============================] - 0s 3ms/step - loss: 859.6287 - mae: 21.7669 - val_loss: 752.4425 - val_mae: 19.5622\n",
      "Epoch 13/100\n",
      "50/50 [==============================] - 0s 3ms/step - loss: 611.8299 - mae: 18.4922 - val_loss: 561.3619 - val_mae: 17.1886\n",
      "Epoch 14/100\n",
      "50/50 [==============================] - 0s 4ms/step - loss: 486.2532 - mae: 16.6559 - val_loss: 479.4814 - val_mae: 16.4154\n",
      "Epoch 15/100\n",
      "50/50 [==============================] - 0s 3ms/step - loss: 432.2666 - mae: 16.0818 - val_loss: 439.9550 - val_mae: 16.1856\n",
      "Epoch 16/100\n",
      "50/50 [==============================] - 0s 3ms/step - loss: 403.9143 - mae: 15.6822 - val_loss: 410.9578 - val_mae: 15.6885\n",
      "Epoch 17/100\n",
      "50/50 [==============================] - 0s 3ms/step - loss: 385.2367 - mae: 15.3619 - val_loss: 397.9762 - val_mae: 15.6434\n",
      "Epoch 18/100\n",
      "50/50 [==============================] - 0s 3ms/step - loss: 371.6811 - mae: 15.1864 - val_loss: 380.1975 - val_mae: 15.2582\n",
      "Epoch 19/100\n",
      "50/50 [==============================] - 0s 3ms/step - loss: 359.5647 - mae: 14.8738 - val_loss: 372.5427 - val_mae: 15.2395\n",
      "Epoch 20/100\n",
      "50/50 [==============================] - 0s 4ms/step - loss: 350.1910 - mae: 14.7453 - val_loss: 360.7501 - val_mae: 14.9487\n",
      "Epoch 21/100\n",
      "50/50 [==============================] - 0s 4ms/step - loss: 339.5254 - mae: 14.5482 - val_loss: 351.2994 - val_mae: 14.7593\n",
      "Epoch 22/100\n",
      "50/50 [==============================] - 0s 3ms/step - loss: 329.4506 - mae: 14.2948 - val_loss: 345.5738 - val_mae: 14.7075\n",
      "Epoch 23/100\n",
      "50/50 [==============================] - 0s 5ms/step - loss: 323.9205 - mae: 14.1460 - val_loss: 340.8314 - val_mae: 14.5972\n",
      "Epoch 24/100\n",
      "50/50 [==============================] - 0s 3ms/step - loss: 314.7474 - mae: 14.1174 - val_loss: 327.9619 - val_mae: 14.2324\n",
      "Epoch 25/100\n",
      "50/50 [==============================] - 0s 4ms/step - loss: 306.6698 - mae: 13.8213 - val_loss: 322.6388 - val_mae: 14.1264\n",
      "Epoch 26/100\n",
      "50/50 [==============================] - 0s 4ms/step - loss: 299.6457 - mae: 13.6804 - val_loss: 314.8442 - val_mae: 13.8873\n",
      "Epoch 27/100\n",
      "50/50 [==============================] - 0s 3ms/step - loss: 291.9093 - mae: 13.4588 - val_loss: 312.7180 - val_mae: 13.9674\n",
      "Epoch 28/100\n",
      "50/50 [==============================] - 0s 4ms/step - loss: 285.1524 - mae: 13.4025 - val_loss: 303.9258 - val_mae: 13.7201\n",
      "Epoch 29/100\n",
      "50/50 [==============================] - 0s 3ms/step - loss: 278.1994 - mae: 13.1199 - val_loss: 299.9184 - val_mae: 13.6555\n",
      "Epoch 30/100\n",
      "50/50 [==============================] - 0s 4ms/step - loss: 272.3637 - mae: 13.0991 - val_loss: 293.6028 - val_mae: 13.5199\n",
      "Epoch 31/100\n",
      "50/50 [==============================] - 0s 4ms/step - loss: 266.0270 - mae: 12.9003 - val_loss: 288.2080 - val_mae: 13.3961\n",
      "Epoch 32/100\n",
      "50/50 [==============================] - 0s 4ms/step - loss: 259.3626 - mae: 12.8055 - val_loss: 279.8914 - val_mae: 13.0790\n",
      "Epoch 33/100\n",
      "50/50 [==============================] - 0s 3ms/step - loss: 253.7036 - mae: 12.5733 - val_loss: 277.0932 - val_mae: 13.1571\n",
      "Epoch 34/100\n",
      "50/50 [==============================] - 0s 4ms/step - loss: 246.3197 - mae: 12.4081 - val_loss: 271.8154 - val_mae: 13.0173\n",
      "Epoch 35/100\n",
      "50/50 [==============================] - 0s 4ms/step - loss: 242.8781 - mae: 12.3285 - val_loss: 269.4789 - val_mae: 13.0650\n",
      "Epoch 36/100\n",
      "50/50 [==============================] - 0s 4ms/step - loss: 236.0095 - mae: 12.1858 - val_loss: 261.0041 - val_mae: 12.7351\n",
      "Epoch 37/100\n",
      "50/50 [==============================] - 0s 3ms/step - loss: 229.6065 - mae: 11.9647 - val_loss: 256.8346 - val_mae: 12.7100\n",
      "Epoch 38/100\n",
      "50/50 [==============================] - 0s 3ms/step - loss: 224.1862 - mae: 11.8601 - val_loss: 253.4139 - val_mae: 12.6458\n",
      "Epoch 39/100\n",
      "50/50 [==============================] - 0s 4ms/step - loss: 219.2453 - mae: 11.6985 - val_loss: 246.1495 - val_mae: 12.4045\n",
      "Epoch 40/100\n",
      "50/50 [==============================] - 0s 3ms/step - loss: 213.1876 - mae: 11.5417 - val_loss: 241.5985 - val_mae: 12.2952\n",
      "Epoch 41/100\n",
      "50/50 [==============================] - 0s 4ms/step - loss: 208.9805 - mae: 11.4530 - val_loss: 237.1713 - val_mae: 12.1779\n",
      "Epoch 42/100\n",
      "50/50 [==============================] - 0s 3ms/step - loss: 203.9568 - mae: 11.3059 - val_loss: 233.1837 - val_mae: 12.1123\n",
      "Epoch 43/100\n",
      "50/50 [==============================] - 0s 3ms/step - loss: 199.2471 - mae: 11.1708 - val_loss: 228.5860 - val_mae: 11.9749\n",
      "Epoch 44/100\n",
      "50/50 [==============================] - 0s 3ms/step - loss: 194.4051 - mae: 11.0531 - val_loss: 224.2882 - val_mae: 11.8444\n",
      "Epoch 45/100\n",
      "50/50 [==============================] - 0s 3ms/step - loss: 189.5186 - mae: 10.8768 - val_loss: 221.6135 - val_mae: 11.8410\n",
      "Epoch 46/100\n",
      "50/50 [==============================] - 0s 3ms/step - loss: 185.8759 - mae: 10.8096 - val_loss: 214.3043 - val_mae: 11.5916\n",
      "Epoch 47/100\n",
      "50/50 [==============================] - 0s 4ms/step - loss: 180.4710 - mae: 10.6294 - val_loss: 213.2086 - val_mae: 11.5971\n",
      "Epoch 48/100\n",
      "50/50 [==============================] - 0s 3ms/step - loss: 176.9122 - mae: 10.5233 - val_loss: 210.7513 - val_mae: 11.5732\n",
      "Epoch 49/100\n",
      "50/50 [==============================] - 0s 4ms/step - loss: 173.5906 - mae: 10.4165 - val_loss: 205.9112 - val_mae: 11.3921\n",
      "Epoch 50/100\n",
      "50/50 [==============================] - 0s 3ms/step - loss: 168.8560 - mae: 10.2835 - val_loss: 201.5970 - val_mae: 11.3166\n",
      "Epoch 51/100\n",
      "50/50 [==============================] - 0s 4ms/step - loss: 164.7291 - mae: 10.1477 - val_loss: 199.9454 - val_mae: 11.3167\n",
      "Epoch 52/100\n",
      "50/50 [==============================] - 0s 4ms/step - loss: 160.5739 - mae: 10.0489 - val_loss: 193.7702 - val_mae: 11.0347\n",
      "Epoch 53/100\n",
      "50/50 [==============================] - 0s 3ms/step - loss: 157.1549 - mae: 9.9444 - val_loss: 189.6521 - val_mae: 10.9023\n",
      "Epoch 54/100\n",
      "50/50 [==============================] - 0s 4ms/step - loss: 153.2454 - mae: 9.7823 - val_loss: 188.9640 - val_mae: 10.9511\n",
      "Epoch 55/100\n",
      "50/50 [==============================] - 0s 4ms/step - loss: 151.1588 - mae: 9.7430 - val_loss: 184.5113 - val_mae: 10.8270\n",
      "Epoch 56/100\n",
      "50/50 [==============================] - 0s 3ms/step - loss: 147.0925 - mae: 9.6040 - val_loss: 181.7681 - val_mae: 10.7322\n",
      "Epoch 57/100\n",
      "50/50 [==============================] - 0s 3ms/step - loss: 144.4080 - mae: 9.5310 - val_loss: 180.1052 - val_mae: 10.6850\n",
      "Epoch 58/100\n",
      "50/50 [==============================] - 0s 4ms/step - loss: 141.2896 - mae: 9.4488 - val_loss: 176.0633 - val_mae: 10.5668\n",
      "Epoch 59/100\n",
      "50/50 [==============================] - 0s 4ms/step - loss: 138.2080 - mae: 9.3464 - val_loss: 175.6330 - val_mae: 10.6011\n",
      "Epoch 60/100\n",
      "50/50 [==============================] - 0s 4ms/step - loss: 136.2666 - mae: 9.2590 - val_loss: 170.1500 - val_mae: 10.3697\n",
      "Epoch 61/100\n",
      "50/50 [==============================] - 0s 4ms/step - loss: 132.6155 - mae: 9.1445 - val_loss: 167.0532 - val_mae: 10.3059\n",
      "Epoch 62/100\n",
      "50/50 [==============================] - 0s 3ms/step - loss: 131.5038 - mae: 9.1118 - val_loss: 165.1735 - val_mae: 10.2123\n",
      "Epoch 63/100\n",
      "50/50 [==============================] - 0s 3ms/step - loss: 127.1617 - mae: 8.9748 - val_loss: 163.7347 - val_mae: 10.1312\n",
      "Epoch 64/100\n",
      "50/50 [==============================] - 0s 4ms/step - loss: 125.5879 - mae: 8.8952 - val_loss: 160.0387 - val_mae: 10.0501\n",
      "Epoch 65/100\n",
      "50/50 [==============================] - 0s 5ms/step - loss: 122.4402 - mae: 8.8015 - val_loss: 158.9717 - val_mae: 10.0350\n",
      "Epoch 66/100\n",
      "50/50 [==============================] - 0s 4ms/step - loss: 120.8114 - mae: 8.7464 - val_loss: 157.1697 - val_mae: 9.9858\n",
      "Epoch 67/100\n",
      "50/50 [==============================] - 0s 3ms/step - loss: 118.8249 - mae: 8.6606 - val_loss: 155.6866 - val_mae: 9.9409\n",
      "Epoch 68/100\n",
      "50/50 [==============================] - 0s 4ms/step - loss: 116.9325 - mae: 8.6033 - val_loss: 151.0582 - val_mae: 9.7398\n",
      "Epoch 69/100\n",
      "50/50 [==============================] - 0s 4ms/step - loss: 114.5253 - mae: 8.5199 - val_loss: 149.9846 - val_mae: 9.7486\n",
      "Epoch 70/100\n",
      "50/50 [==============================] - 0s 4ms/step - loss: 114.3643 - mae: 8.5308 - val_loss: 149.1492 - val_mae: 9.7120\n",
      "Epoch 71/100\n",
      "50/50 [==============================] - 0s 3ms/step - loss: 111.8936 - mae: 8.4114 - val_loss: 147.4855 - val_mae: 9.6549\n",
      "Epoch 72/100\n",
      "50/50 [==============================] - 0s 3ms/step - loss: 110.1991 - mae: 8.3566 - val_loss: 145.2025 - val_mae: 9.5651\n",
      "Epoch 73/100\n",
      "50/50 [==============================] - 0s 4ms/step - loss: 109.2880 - mae: 8.3294 - val_loss: 144.5478 - val_mae: 9.5578\n",
      "Epoch 74/100\n",
      "50/50 [==============================] - 0s 4ms/step - loss: 108.0770 - mae: 8.2852 - val_loss: 143.7919 - val_mae: 9.5218\n",
      "Epoch 75/100\n",
      "50/50 [==============================] - 0s 4ms/step - loss: 106.3947 - mae: 8.1933 - val_loss: 140.4520 - val_mae: 9.4068\n",
      "Epoch 76/100\n",
      "50/50 [==============================] - 0s 3ms/step - loss: 105.8453 - mae: 8.1939 - val_loss: 138.2817 - val_mae: 9.3564\n",
      "Epoch 77/100\n",
      "50/50 [==============================] - 0s 3ms/step - loss: 104.1850 - mae: 8.1346 - val_loss: 139.1733 - val_mae: 9.3633\n",
      "Epoch 78/100\n",
      "50/50 [==============================] - 0s 4ms/step - loss: 103.3291 - mae: 8.0895 - val_loss: 138.4937 - val_mae: 9.3652\n",
      "Epoch 79/100\n",
      "50/50 [==============================] - 0s 4ms/step - loss: 101.7215 - mae: 8.0110 - val_loss: 137.8149 - val_mae: 9.3305\n",
      "Epoch 80/100\n",
      "50/50 [==============================] - 0s 4ms/step - loss: 101.8021 - mae: 8.0208 - val_loss: 138.9881 - val_mae: 9.3486\n",
      "Epoch 81/100\n",
      "50/50 [==============================] - 0s 4ms/step - loss: 100.4424 - mae: 7.9536 - val_loss: 137.4697 - val_mae: 9.3520\n",
      "Epoch 82/100\n",
      "50/50 [==============================] - 0s 3ms/step - loss: 100.6330 - mae: 7.9739 - val_loss: 133.5890 - val_mae: 9.1720\n",
      "Epoch 83/100\n",
      "50/50 [==============================] - 0s 4ms/step - loss: 98.7865 - mae: 7.9138 - val_loss: 133.3568 - val_mae: 9.1791\n",
      "Epoch 84/100\n",
      "50/50 [==============================] - 0s 4ms/step - loss: 98.3207 - mae: 7.8723 - val_loss: 131.4406 - val_mae: 9.1210\n",
      "Epoch 85/100\n",
      "50/50 [==============================] - 0s 3ms/step - loss: 97.1526 - mae: 7.8480 - val_loss: 134.0389 - val_mae: 9.1933\n",
      "Epoch 86/100\n",
      "50/50 [==============================] - 0s 4ms/step - loss: 96.6336 - mae: 7.8305 - val_loss: 133.8144 - val_mae: 9.1458\n",
      "Epoch 87/100\n",
      "50/50 [==============================] - 0s 3ms/step - loss: 96.4615 - mae: 7.8340 - val_loss: 130.7594 - val_mae: 9.0604\n",
      "Epoch 88/100\n",
      "50/50 [==============================] - 0s 4ms/step - loss: 95.1273 - mae: 7.7524 - val_loss: 130.2319 - val_mae: 9.0796\n",
      "Epoch 89/100\n",
      "50/50 [==============================] - 0s 3ms/step - loss: 95.0637 - mae: 7.7147 - val_loss: 130.1999 - val_mae: 9.0886\n",
      "Epoch 90/100\n",
      "50/50 [==============================] - 0s 3ms/step - loss: 94.8377 - mae: 7.7329 - val_loss: 128.4694 - val_mae: 9.0220\n",
      "Epoch 91/100\n",
      "50/50 [==============================] - 0s 4ms/step - loss: 93.9198 - mae: 7.7069 - val_loss: 131.2123 - val_mae: 9.1238\n",
      "Epoch 92/100\n",
      "50/50 [==============================] - 0s 4ms/step - loss: 93.8422 - mae: 7.6840 - val_loss: 128.9626 - val_mae: 9.0202\n",
      "Epoch 93/100\n",
      "50/50 [==============================] - 0s 3ms/step - loss: 93.2930 - mae: 7.6702 - val_loss: 128.9815 - val_mae: 9.0136\n",
      "Epoch 94/100\n",
      "50/50 [==============================] - 0s 3ms/step - loss: 92.8749 - mae: 7.6583 - val_loss: 126.5190 - val_mae: 8.9274\n",
      "Epoch 95/100\n",
      "50/50 [==============================] - 0s 4ms/step - loss: 92.8231 - mae: 7.6430 - val_loss: 128.5099 - val_mae: 9.0152\n",
      "Epoch 96/100\n",
      "50/50 [==============================] - 0s 5ms/step - loss: 91.9381 - mae: 7.6027 - val_loss: 126.8968 - val_mae: 8.9626\n",
      "Epoch 97/100\n",
      "50/50 [==============================] - 0s 3ms/step - loss: 91.9785 - mae: 7.6279 - val_loss: 125.9799 - val_mae: 8.9158\n",
      "Epoch 98/100\n",
      "50/50 [==============================] - 0s 3ms/step - loss: 90.7466 - mae: 7.5561 - val_loss: 126.0743 - val_mae: 8.9122\n",
      "Epoch 99/100\n",
      "50/50 [==============================] - 0s 3ms/step - loss: 91.0377 - mae: 7.5724 - val_loss: 124.9864 - val_mae: 8.8402\n",
      "Epoch 100/100\n",
      "50/50 [==============================] - 0s 3ms/step - loss: 91.1528 - mae: 7.5653 - val_loss: 125.3197 - val_mae: 8.8772\n"
     ]
    }
   ],
   "source": [
    "hist = model.fit(xtrain, ytrain, validation_data=(xtest, ytest), epochs=100)"
   ]
  },
  {
   "cell_type": "markdown",
   "metadata": {},
   "source": [
    "### Visualizing the learning curve"
   ]
  },
  {
   "cell_type": "code",
   "execution_count": 27,
   "metadata": {},
   "outputs": [
    {
     "name": "stdout",
     "output_type": "stream",
     "text": [
      "Requirement already satisfied: matplotlib in c:\\deep learning\\repository\\venv\\lib\\site-packages (3.8.2)\n",
      "Requirement already satisfied: contourpy>=1.0.1 in c:\\deep learning\\repository\\venv\\lib\\site-packages (from matplotlib) (1.2.0)\n",
      "Requirement already satisfied: cycler>=0.10 in c:\\deep learning\\repository\\venv\\lib\\site-packages (from matplotlib) (0.12.1)\n",
      "Requirement already satisfied: fonttools>=4.22.0 in c:\\deep learning\\repository\\venv\\lib\\site-packages (from matplotlib) (4.48.1)\n",
      "Requirement already satisfied: kiwisolver>=1.3.1 in c:\\deep learning\\repository\\venv\\lib\\site-packages (from matplotlib) (1.4.5)\n",
      "Requirement already satisfied: numpy<2,>=1.21 in c:\\deep learning\\repository\\venv\\lib\\site-packages (from matplotlib) (1.26.4)\n",
      "Requirement already satisfied: packaging>=20.0 in c:\\deep learning\\repository\\venv\\lib\\site-packages (from matplotlib) (23.2)\n",
      "Requirement already satisfied: pillow>=8 in c:\\deep learning\\repository\\venv\\lib\\site-packages (from matplotlib) (10.2.0)\n",
      "Requirement already satisfied: pyparsing>=2.3.1 in c:\\deep learning\\repository\\venv\\lib\\site-packages (from matplotlib) (3.1.1)\n",
      "Requirement already satisfied: python-dateutil>=2.7 in c:\\deep learning\\repository\\venv\\lib\\site-packages (from matplotlib) (2.8.2)\n",
      "Requirement already satisfied: six>=1.5 in c:\\deep learning\\repository\\venv\\lib\\site-packages (from python-dateutil>=2.7->matplotlib) (1.16.0)\n",
      "Note: you may need to restart the kernel to use updated packages.\n"
     ]
    }
   ],
   "source": [
    "%pip install matplotlib"
   ]
  },
  {
   "cell_type": "code",
   "execution_count": 28,
   "metadata": {},
   "outputs": [
    {
     "data": {
      "image/png": "[encoded data removed]",
      "text/plain": [
       "<Figure size 1000x600 with 1 Axes>"
      ]
     },
     "metadata": {},
     "output_type": "display_data"
    }
   ],
   "source": [
    "import matplotlib.pyplot as plt\n",
    "plt.figure(figsize=(10,6))\n",
    "plt.plot(hist.history['loss'], label='Training Loss')\n",
    "plt.plot(hist.history['val_loss'], label='Testing Loss')\n",
    "plt.xlabel('Epochs')\n",
    "plt.ylabel('Mean Squared Error')\n",
    "plt.title('Learning Curve')\n",
    "plt.legend()\n",
    "plt.show()\n"
   ]
  },
  {
   "cell_type": "markdown",
   "metadata": {},
   "source": [
    "### Evaluate model in Train and Test"
   ]
  },
  {
   "cell_type": "code",
   "execution_count": 29,
   "metadata": {},
   "outputs": [
    {
     "name": "stdout",
     "output_type": "stream",
     "text": [
      "50/50 [==============================] - 0s 2ms/step - loss: 87.8266 - mae: 7.4352\n"
     ]
    },
    {
     "data": {
      "text/plain": [
       "[87.82656860351562, 7.435247421264648]"
      ]
     },
     "execution_count": 29,
     "metadata": {},
     "output_type": "execute_result"
    }
   ],
   "source": [
    "model.evaluate(xtrain, ytrain)"
   ]
  },
  {
   "cell_type": "code",
   "execution_count": 30,
   "metadata": {},
   "outputs": [
    {
     "name": "stdout",
     "output_type": "stream",
     "text": [
      "13/13 [==============================] - 0s 2ms/step - loss: 125.3197 - mae: 8.8772\n"
     ]
    },
    {
     "data": {
      "text/plain": [
       "[125.31973266601562, 8.87724781036377]"
      ]
     },
     "execution_count": 30,
     "metadata": {},
     "output_type": "execute_result"
    }
   ],
   "source": [
    "model.evaluate(xtest, ytest)"
   ]
  },
  {
   "cell_type": "markdown",
   "metadata": {},
   "source": [
    "### predict the result for train and test"
   ]
  },
  {
   "cell_type": "code",
   "execution_count": 31,
   "metadata": {},
   "outputs": [
    {
     "name": "stdout",
     "output_type": "stream",
     "text": [
      "50/50 [==============================] - 0s 2ms/step\n",
      "13/13 [==============================] - 0s 2ms/step\n"
     ]
    }
   ],
   "source": [
    "ypred_tr = model.predict(xtrain)\n",
    "ypred_ts = model.predict(xtest)"
   ]
  },
  {
   "cell_type": "code",
   "execution_count": 32,
   "metadata": {},
   "outputs": [
    {
     "data": {
      "text/plain": [
       "array([[-361.91953 ],\n",
       "       [   4.820813],\n",
       "       [ -48.615402],\n",
       "       [-233.47081 ],\n",
       "       [-208.47318 ]], dtype=float32)"
      ]
     },
     "execution_count": 32,
     "metadata": {},
     "output_type": "execute_result"
    }
   ],
   "source": [
    "ypred_tr[0:5]"
   ]
  },
  {
   "cell_type": "code",
   "execution_count": 33,
   "metadata": {},
   "outputs": [
    {
     "data": {
      "text/html": [
       "<div>\n",
       "<style scoped>\n",
       "    .dataframe tbody tr th:only-of-type {\n",
       "        vertical-align: middle;\n",
       "    }\n",
       "\n",
       "    .dataframe tbody tr th {\n",
       "        vertical-align: top;\n",
       "    }\n",
       "\n",
       "    .dataframe thead th {\n",
       "        text-align: right;\n",
       "    }\n",
       "</style>\n",
       "<table border=\"1\" class=\"dataframe\">\n",
       "  <thead>\n",
       "    <tr style=\"text-align: right;\">\n",
       "      <th></th>\n",
       "      <th>y</th>\n",
       "    </tr>\n",
       "  </thead>\n",
       "  <tbody>\n",
       "    <tr>\n",
       "      <th>1490</th>\n",
       "      <td>-356.925477</td>\n",
       "    </tr>\n",
       "    <tr>\n",
       "      <th>965</th>\n",
       "      <td>8.515626</td>\n",
       "    </tr>\n",
       "    <tr>\n",
       "      <th>1216</th>\n",
       "      <td>-44.958454</td>\n",
       "    </tr>\n",
       "    <tr>\n",
       "      <th>500</th>\n",
       "      <td>-218.346383</td>\n",
       "    </tr>\n",
       "    <tr>\n",
       "      <th>403</th>\n",
       "      <td>-211.774828</td>\n",
       "    </tr>\n",
       "  </tbody>\n",
       "</table>\n",
       "</div>"
      ],
      "text/plain": [
       "               y\n",
       "1490 -356.925477\n",
       "965     8.515626\n",
       "1216  -44.958454\n",
       "500  -218.346383\n",
       "403  -211.774828"
      ]
     },
     "execution_count": 33,
     "metadata": {},
     "output_type": "execute_result"
    }
   ],
   "source": [
    "ytrain.head()"
   ]
  },
  {
   "cell_type": "code",
   "execution_count": 34,
   "metadata": {},
   "outputs": [
    {
     "data": {
      "text/plain": [
       "array([[ -11.333159],\n",
       "       [  97.854774],\n",
       "       [ 273.3652  ],\n",
       "       [-176.82832 ],\n",
       "       [-209.71817 ]], dtype=float32)"
      ]
     },
     "execution_count": 34,
     "metadata": {},
     "output_type": "execute_result"
    }
   ],
   "source": [
    "ypred_ts[0:5]"
   ]
  },
  {
   "cell_type": "code",
   "execution_count": 35,
   "metadata": {},
   "outputs": [
    {
     "data": {
      "text/html": [
       "<div>\n",
       "<style scoped>\n",
       "    .dataframe tbody tr th:only-of-type {\n",
       "        vertical-align: middle;\n",
       "    }\n",
       "\n",
       "    .dataframe tbody tr th {\n",
       "        vertical-align: top;\n",
       "    }\n",
       "\n",
       "    .dataframe thead th {\n",
       "        text-align: right;\n",
       "    }\n",
       "</style>\n",
       "<table border=\"1\" class=\"dataframe\">\n",
       "  <thead>\n",
       "    <tr style=\"text-align: right;\">\n",
       "      <th></th>\n",
       "      <th>y</th>\n",
       "    </tr>\n",
       "  </thead>\n",
       "  <tbody>\n",
       "    <tr>\n",
       "      <th>541</th>\n",
       "      <td>-7.918092</td>\n",
       "    </tr>\n",
       "    <tr>\n",
       "      <th>1211</th>\n",
       "      <td>91.934687</td>\n",
       "    </tr>\n",
       "    <tr>\n",
       "      <th>1862</th>\n",
       "      <td>259.032574</td>\n",
       "    </tr>\n",
       "    <tr>\n",
       "      <th>1094</th>\n",
       "      <td>-191.626509</td>\n",
       "    </tr>\n",
       "    <tr>\n",
       "      <th>465</th>\n",
       "      <td>-196.558008</td>\n",
       "    </tr>\n",
       "  </tbody>\n",
       "</table>\n",
       "</div>"
      ],
      "text/plain": [
       "               y\n",
       "541    -7.918092\n",
       "1211   91.934687\n",
       "1862  259.032574\n",
       "1094 -191.626509\n",
       "465  -196.558008"
      ]
     },
     "execution_count": 35,
     "metadata": {},
     "output_type": "execute_result"
    }
   ],
   "source": [
    "ytest.head()"
   ]
  },
  {
   "cell_type": "markdown",
   "metadata": {},
   "source": [
    "### get the r2_score for train and test"
   ]
  },
  {
   "cell_type": "code",
   "execution_count": 36,
   "metadata": {},
   "outputs": [],
   "source": [
    "from sklearn.metrics import r2_score"
   ]
  },
  {
   "cell_type": "code",
   "execution_count": 37,
   "metadata": {},
   "outputs": [
    {
     "data": {
      "text/plain": [
       "0.9973425191058604"
      ]
     },
     "execution_count": 37,
     "metadata": {},
     "output_type": "execute_result"
    }
   ],
   "source": [
    "r2_score(ytrain, ypred_tr)"
   ]
  },
  {
   "cell_type": "code",
   "execution_count": 38,
   "metadata": {},
   "outputs": [
    {
     "data": {
      "text/plain": [
       "0.9961196876055608"
      ]
     },
     "execution_count": 38,
     "metadata": {},
     "output_type": "execute_result"
    }
   ],
   "source": [
    "r2_score(ytest,ypred_ts)"
   ]
  },
  {
   "cell_type": "markdown",
   "metadata": {},
   "source": [
    "### In regession if r2 scores>= 0.8 then you have created good model "
   ]
  },
  {
   "cell_type": "code",
   "execution_count": null,
   "metadata": {},
   "outputs": [],
   "source": []
  }
 ],
 "metadata": {
  "kernelspec": {
   "display_name": "venv",
   "language": "python",
   "name": "python3"
  },
  "language_info": {
   "codemirror_mode": {
    "name": "ipython",
    "version": 3
   },
   "file_extension": ".py",
   "mimetype": "text/x-python",
   "name": "python",
   "nbconvert_exporter": "python",
   "pygments_lexer": "ipython3",
   "version": "3.11.8"
  }
 },
 "nbformat": 4,
 "nbformat_minor": 2
}
