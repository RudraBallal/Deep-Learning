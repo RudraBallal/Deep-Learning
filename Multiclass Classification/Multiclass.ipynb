{
 "cells": [
  {
   "cell_type": "markdown",
   "metadata": {},
   "source": [
    "# Multiclass Classification"
   ]
  },
  {
   "cell_type": "code",
   "execution_count": 28,
   "metadata": {},
   "outputs": [],
   "source": [
    "from warnings import filterwarnings\n",
    "filterwarnings('ignore')"
   ]
  },
  {
   "cell_type": "code",
   "execution_count": 29,
   "metadata": {},
   "outputs": [
    {
     "data": {
      "text/html": [
       "<div>\n",
       "<style scoped>\n",
       "    .dataframe tbody tr th:only-of-type {\n",
       "        vertical-align: middle;\n",
       "    }\n",
       "\n",
       "    .dataframe tbody tr th {\n",
       "        vertical-align: top;\n",
       "    }\n",
       "\n",
       "    .dataframe thead th {\n",
       "        text-align: right;\n",
       "    }\n",
       "</style>\n",
       "<table border=\"1\" class=\"dataframe\">\n",
       "  <thead>\n",
       "    <tr style=\"text-align: right;\">\n",
       "      <th></th>\n",
       "      <th>id</th>\n",
       "      <th>Gender</th>\n",
       "      <th>Age</th>\n",
       "      <th>Height</th>\n",
       "      <th>Weight</th>\n",
       "      <th>family_history_with_overweight</th>\n",
       "      <th>FAVC</th>\n",
       "      <th>FCVC</th>\n",
       "      <th>NCP</th>\n",
       "      <th>CAEC</th>\n",
       "      <th>SMOKE</th>\n",
       "      <th>CH2O</th>\n",
       "      <th>SCC</th>\n",
       "      <th>FAF</th>\n",
       "      <th>TUE</th>\n",
       "      <th>CALC</th>\n",
       "      <th>MTRANS</th>\n",
       "      <th>NObeyesdad</th>\n",
       "    </tr>\n",
       "  </thead>\n",
       "  <tbody>\n",
       "    <tr>\n",
       "      <th>0</th>\n",
       "      <td>0</td>\n",
       "      <td>Male</td>\n",
       "      <td>24.443011</td>\n",
       "      <td>1.699998</td>\n",
       "      <td>81.669950</td>\n",
       "      <td>yes</td>\n",
       "      <td>yes</td>\n",
       "      <td>2.000000</td>\n",
       "      <td>2.983297</td>\n",
       "      <td>Sometimes</td>\n",
       "      <td>no</td>\n",
       "      <td>2.763573</td>\n",
       "      <td>no</td>\n",
       "      <td>0.000000</td>\n",
       "      <td>0.976473</td>\n",
       "      <td>Sometimes</td>\n",
       "      <td>Public_Transportation</td>\n",
       "      <td>Overweight_Level_II</td>\n",
       "    </tr>\n",
       "    <tr>\n",
       "      <th>1</th>\n",
       "      <td>1</td>\n",
       "      <td>Female</td>\n",
       "      <td>18.000000</td>\n",
       "      <td>1.560000</td>\n",
       "      <td>57.000000</td>\n",
       "      <td>yes</td>\n",
       "      <td>yes</td>\n",
       "      <td>2.000000</td>\n",
       "      <td>3.000000</td>\n",
       "      <td>Frequently</td>\n",
       "      <td>no</td>\n",
       "      <td>2.000000</td>\n",
       "      <td>no</td>\n",
       "      <td>1.000000</td>\n",
       "      <td>1.000000</td>\n",
       "      <td>no</td>\n",
       "      <td>Automobile</td>\n",
       "      <td>Normal_Weight</td>\n",
       "    </tr>\n",
       "    <tr>\n",
       "      <th>2</th>\n",
       "      <td>2</td>\n",
       "      <td>Female</td>\n",
       "      <td>18.000000</td>\n",
       "      <td>1.711460</td>\n",
       "      <td>50.165754</td>\n",
       "      <td>yes</td>\n",
       "      <td>yes</td>\n",
       "      <td>1.880534</td>\n",
       "      <td>1.411685</td>\n",
       "      <td>Sometimes</td>\n",
       "      <td>no</td>\n",
       "      <td>1.910378</td>\n",
       "      <td>no</td>\n",
       "      <td>0.866045</td>\n",
       "      <td>1.673584</td>\n",
       "      <td>no</td>\n",
       "      <td>Public_Transportation</td>\n",
       "      <td>Insufficient_Weight</td>\n",
       "    </tr>\n",
       "    <tr>\n",
       "      <th>3</th>\n",
       "      <td>3</td>\n",
       "      <td>Female</td>\n",
       "      <td>20.952737</td>\n",
       "      <td>1.710730</td>\n",
       "      <td>131.274851</td>\n",
       "      <td>yes</td>\n",
       "      <td>yes</td>\n",
       "      <td>3.000000</td>\n",
       "      <td>3.000000</td>\n",
       "      <td>Sometimes</td>\n",
       "      <td>no</td>\n",
       "      <td>1.674061</td>\n",
       "      <td>no</td>\n",
       "      <td>1.467863</td>\n",
       "      <td>0.780199</td>\n",
       "      <td>Sometimes</td>\n",
       "      <td>Public_Transportation</td>\n",
       "      <td>Obesity_Type_III</td>\n",
       "    </tr>\n",
       "    <tr>\n",
       "      <th>4</th>\n",
       "      <td>4</td>\n",
       "      <td>Male</td>\n",
       "      <td>31.641081</td>\n",
       "      <td>1.914186</td>\n",
       "      <td>93.798055</td>\n",
       "      <td>yes</td>\n",
       "      <td>yes</td>\n",
       "      <td>2.679664</td>\n",
       "      <td>1.971472</td>\n",
       "      <td>Sometimes</td>\n",
       "      <td>no</td>\n",
       "      <td>1.979848</td>\n",
       "      <td>no</td>\n",
       "      <td>1.967973</td>\n",
       "      <td>0.931721</td>\n",
       "      <td>Sometimes</td>\n",
       "      <td>Public_Transportation</td>\n",
       "      <td>Overweight_Level_II</td>\n",
       "    </tr>\n",
       "  </tbody>\n",
       "</table>\n",
       "</div>"
      ],
      "text/plain": [
       "   id  Gender        Age    Height      Weight family_history_with_overweight  \\\n",
       "0   0    Male  24.443011  1.699998   81.669950                            yes   \n",
       "1   1  Female  18.000000  1.560000   57.000000                            yes   \n",
       "2   2  Female  18.000000  1.711460   50.165754                            yes   \n",
       "3   3  Female  20.952737  1.710730  131.274851                            yes   \n",
       "4   4    Male  31.641081  1.914186   93.798055                            yes   \n",
       "\n",
       "  FAVC      FCVC       NCP        CAEC SMOKE      CH2O SCC       FAF  \\\n",
       "0  yes  2.000000  2.983297   Sometimes    no  2.763573  no  0.000000   \n",
       "1  yes  2.000000  3.000000  Frequently    no  2.000000  no  1.000000   \n",
       "2  yes  1.880534  1.411685   Sometimes    no  1.910378  no  0.866045   \n",
       "3  yes  3.000000  3.000000   Sometimes    no  1.674061  no  1.467863   \n",
       "4  yes  2.679664  1.971472   Sometimes    no  1.979848  no  1.967973   \n",
       "\n",
       "        TUE       CALC                 MTRANS           NObeyesdad  \n",
       "0  0.976473  Sometimes  Public_Transportation  Overweight_Level_II  \n",
       "1  1.000000         no             Automobile        Normal_Weight  \n",
       "2  1.673584         no  Public_Transportation  Insufficient_Weight  \n",
       "3  0.780199  Sometimes  Public_Transportation     Obesity_Type_III  \n",
       "4  0.931721  Sometimes  Public_Transportation  Overweight_Level_II  "
      ]
     },
     "execution_count": 29,
     "metadata": {},
     "output_type": "execute_result"
    }
   ],
   "source": [
    "import pandas as pd\n",
    "df = pd.read_csv('train.csv')\n",
    "df.head()"
   ]
  },
  {
   "cell_type": "code",
   "execution_count": 30,
   "metadata": {},
   "outputs": [
    {
     "name": "stdout",
     "output_type": "stream",
     "text": [
      "<class 'pandas.core.frame.DataFrame'>\n",
      "RangeIndex: 20758 entries, 0 to 20757\n",
      "Data columns (total 18 columns):\n",
      " #   Column                          Non-Null Count  Dtype  \n",
      "---  ------                          --------------  -----  \n",
      " 0   id                              20758 non-null  int64  \n",
      " 1   Gender                          20758 non-null  object \n",
      " 2   Age                             20758 non-null  float64\n",
      " 3   Height                          20758 non-null  float64\n",
      " 4   Weight                          20758 non-null  float64\n",
      " 5   family_history_with_overweight  20758 non-null  object \n",
      " 6   FAVC                            20758 non-null  object \n",
      " 7   FCVC                            20758 non-null  float64\n",
      " 8   NCP                             20758 non-null  float64\n",
      " 9   CAEC                            20758 non-null  object \n",
      " 10  SMOKE                           20758 non-null  object \n",
      " 11  CH2O                            20758 non-null  float64\n",
      " 12  SCC                             20758 non-null  object \n",
      " 13  FAF                             20758 non-null  float64\n",
      " 14  TUE                             20758 non-null  float64\n",
      " 15  CALC                            20758 non-null  object \n",
      " 16  MTRANS                          20758 non-null  object \n",
      " 17  NObeyesdad                      20758 non-null  object \n",
      "dtypes: float64(8), int64(1), object(9)\n",
      "memory usage: 2.9+ MB\n"
     ]
    }
   ],
   "source": [
    "df.info()"
   ]
  },
  {
   "cell_type": "code",
   "execution_count": 31,
   "metadata": {},
   "outputs": [
    {
     "data": {
      "text/plain": [
       "id                                0\n",
       "Gender                            0\n",
       "Age                               0\n",
       "Height                            0\n",
       "Weight                            0\n",
       "family_history_with_overweight    0\n",
       "FAVC                              0\n",
       "FCVC                              0\n",
       "NCP                               0\n",
       "CAEC                              0\n",
       "SMOKE                             0\n",
       "CH2O                              0\n",
       "SCC                               0\n",
       "FAF                               0\n",
       "TUE                               0\n",
       "CALC                              0\n",
       "MTRANS                            0\n",
       "NObeyesdad                        0\n",
       "dtype: int64"
      ]
     },
     "execution_count": 31,
     "metadata": {},
     "output_type": "execute_result"
    }
   ],
   "source": [
    "df.isna().sum()"
   ]
  },
  {
   "cell_type": "code",
   "execution_count": 32,
   "metadata": {},
   "outputs": [
    {
     "data": {
      "text/plain": [
       "0"
      ]
     },
     "execution_count": 32,
     "metadata": {},
     "output_type": "execute_result"
    }
   ],
   "source": [
    "df.duplicated().sum()"
   ]
  },
  {
   "cell_type": "markdown",
   "metadata": {},
   "source": [
    "### Seperate X and Y"
   ]
  },
  {
   "cell_type": "code",
   "execution_count": 33,
   "metadata": {},
   "outputs": [],
   "source": [
    "X = df.drop(columns=['id', 'NObeyesdad'])\n",
    "Y = df[['NObeyesdad']]"
   ]
  },
  {
   "cell_type": "code",
   "execution_count": 34,
   "metadata": {},
   "outputs": [
    {
     "data": {
      "text/html": [
       "<div>\n",
       "<style scoped>\n",
       "    .dataframe tbody tr th:only-of-type {\n",
       "        vertical-align: middle;\n",
       "    }\n",
       "\n",
       "    .dataframe tbody tr th {\n",
       "        vertical-align: top;\n",
       "    }\n",
       "\n",
       "    .dataframe thead th {\n",
       "        text-align: right;\n",
       "    }\n",
       "</style>\n",
       "<table border=\"1\" class=\"dataframe\">\n",
       "  <thead>\n",
       "    <tr style=\"text-align: right;\">\n",
       "      <th></th>\n",
       "      <th>Gender</th>\n",
       "      <th>Age</th>\n",
       "      <th>Height</th>\n",
       "      <th>Weight</th>\n",
       "      <th>family_history_with_overweight</th>\n",
       "      <th>FAVC</th>\n",
       "      <th>FCVC</th>\n",
       "      <th>NCP</th>\n",
       "      <th>CAEC</th>\n",
       "      <th>SMOKE</th>\n",
       "      <th>CH2O</th>\n",
       "      <th>SCC</th>\n",
       "      <th>FAF</th>\n",
       "      <th>TUE</th>\n",
       "      <th>CALC</th>\n",
       "      <th>MTRANS</th>\n",
       "    </tr>\n",
       "  </thead>\n",
       "  <tbody>\n",
       "    <tr>\n",
       "      <th>0</th>\n",
       "      <td>Male</td>\n",
       "      <td>24.443011</td>\n",
       "      <td>1.699998</td>\n",
       "      <td>81.669950</td>\n",
       "      <td>yes</td>\n",
       "      <td>yes</td>\n",
       "      <td>2.000000</td>\n",
       "      <td>2.983297</td>\n",
       "      <td>Sometimes</td>\n",
       "      <td>no</td>\n",
       "      <td>2.763573</td>\n",
       "      <td>no</td>\n",
       "      <td>0.000000</td>\n",
       "      <td>0.976473</td>\n",
       "      <td>Sometimes</td>\n",
       "      <td>Public_Transportation</td>\n",
       "    </tr>\n",
       "    <tr>\n",
       "      <th>1</th>\n",
       "      <td>Female</td>\n",
       "      <td>18.000000</td>\n",
       "      <td>1.560000</td>\n",
       "      <td>57.000000</td>\n",
       "      <td>yes</td>\n",
       "      <td>yes</td>\n",
       "      <td>2.000000</td>\n",
       "      <td>3.000000</td>\n",
       "      <td>Frequently</td>\n",
       "      <td>no</td>\n",
       "      <td>2.000000</td>\n",
       "      <td>no</td>\n",
       "      <td>1.000000</td>\n",
       "      <td>1.000000</td>\n",
       "      <td>no</td>\n",
       "      <td>Automobile</td>\n",
       "    </tr>\n",
       "    <tr>\n",
       "      <th>2</th>\n",
       "      <td>Female</td>\n",
       "      <td>18.000000</td>\n",
       "      <td>1.711460</td>\n",
       "      <td>50.165754</td>\n",
       "      <td>yes</td>\n",
       "      <td>yes</td>\n",
       "      <td>1.880534</td>\n",
       "      <td>1.411685</td>\n",
       "      <td>Sometimes</td>\n",
       "      <td>no</td>\n",
       "      <td>1.910378</td>\n",
       "      <td>no</td>\n",
       "      <td>0.866045</td>\n",
       "      <td>1.673584</td>\n",
       "      <td>no</td>\n",
       "      <td>Public_Transportation</td>\n",
       "    </tr>\n",
       "    <tr>\n",
       "      <th>3</th>\n",
       "      <td>Female</td>\n",
       "      <td>20.952737</td>\n",
       "      <td>1.710730</td>\n",
       "      <td>131.274851</td>\n",
       "      <td>yes</td>\n",
       "      <td>yes</td>\n",
       "      <td>3.000000</td>\n",
       "      <td>3.000000</td>\n",
       "      <td>Sometimes</td>\n",
       "      <td>no</td>\n",
       "      <td>1.674061</td>\n",
       "      <td>no</td>\n",
       "      <td>1.467863</td>\n",
       "      <td>0.780199</td>\n",
       "      <td>Sometimes</td>\n",
       "      <td>Public_Transportation</td>\n",
       "    </tr>\n",
       "    <tr>\n",
       "      <th>4</th>\n",
       "      <td>Male</td>\n",
       "      <td>31.641081</td>\n",
       "      <td>1.914186</td>\n",
       "      <td>93.798055</td>\n",
       "      <td>yes</td>\n",
       "      <td>yes</td>\n",
       "      <td>2.679664</td>\n",
       "      <td>1.971472</td>\n",
       "      <td>Sometimes</td>\n",
       "      <td>no</td>\n",
       "      <td>1.979848</td>\n",
       "      <td>no</td>\n",
       "      <td>1.967973</td>\n",
       "      <td>0.931721</td>\n",
       "      <td>Sometimes</td>\n",
       "      <td>Public_Transportation</td>\n",
       "    </tr>\n",
       "  </tbody>\n",
       "</table>\n",
       "</div>"
      ],
      "text/plain": [
       "   Gender        Age    Height      Weight family_history_with_overweight  \\\n",
       "0    Male  24.443011  1.699998   81.669950                            yes   \n",
       "1  Female  18.000000  1.560000   57.000000                            yes   \n",
       "2  Female  18.000000  1.711460   50.165754                            yes   \n",
       "3  Female  20.952737  1.710730  131.274851                            yes   \n",
       "4    Male  31.641081  1.914186   93.798055                            yes   \n",
       "\n",
       "  FAVC      FCVC       NCP        CAEC SMOKE      CH2O SCC       FAF  \\\n",
       "0  yes  2.000000  2.983297   Sometimes    no  2.763573  no  0.000000   \n",
       "1  yes  2.000000  3.000000  Frequently    no  2.000000  no  1.000000   \n",
       "2  yes  1.880534  1.411685   Sometimes    no  1.910378  no  0.866045   \n",
       "3  yes  3.000000  3.000000   Sometimes    no  1.674061  no  1.467863   \n",
       "4  yes  2.679664  1.971472   Sometimes    no  1.979848  no  1.967973   \n",
       "\n",
       "        TUE       CALC                 MTRANS  \n",
       "0  0.976473  Sometimes  Public_Transportation  \n",
       "1  1.000000         no             Automobile  \n",
       "2  1.673584         no  Public_Transportation  \n",
       "3  0.780199  Sometimes  Public_Transportation  \n",
       "4  0.931721  Sometimes  Public_Transportation  "
      ]
     },
     "execution_count": 34,
     "metadata": {},
     "output_type": "execute_result"
    }
   ],
   "source": [
    "X.head()"
   ]
  },
  {
   "cell_type": "code",
   "execution_count": 35,
   "metadata": {},
   "outputs": [
    {
     "data": {
      "text/html": [
       "<div>\n",
       "<style scoped>\n",
       "    .dataframe tbody tr th:only-of-type {\n",
       "        vertical-align: middle;\n",
       "    }\n",
       "\n",
       "    .dataframe tbody tr th {\n",
       "        vertical-align: top;\n",
       "    }\n",
       "\n",
       "    .dataframe thead th {\n",
       "        text-align: right;\n",
       "    }\n",
       "</style>\n",
       "<table border=\"1\" class=\"dataframe\">\n",
       "  <thead>\n",
       "    <tr style=\"text-align: right;\">\n",
       "      <th></th>\n",
       "      <th>NObeyesdad</th>\n",
       "    </tr>\n",
       "  </thead>\n",
       "  <tbody>\n",
       "    <tr>\n",
       "      <th>0</th>\n",
       "      <td>Overweight_Level_II</td>\n",
       "    </tr>\n",
       "    <tr>\n",
       "      <th>1</th>\n",
       "      <td>Normal_Weight</td>\n",
       "    </tr>\n",
       "    <tr>\n",
       "      <th>2</th>\n",
       "      <td>Insufficient_Weight</td>\n",
       "    </tr>\n",
       "    <tr>\n",
       "      <th>3</th>\n",
       "      <td>Obesity_Type_III</td>\n",
       "    </tr>\n",
       "    <tr>\n",
       "      <th>4</th>\n",
       "      <td>Overweight_Level_II</td>\n",
       "    </tr>\n",
       "  </tbody>\n",
       "</table>\n",
       "</div>"
      ],
      "text/plain": [
       "            NObeyesdad\n",
       "0  Overweight_Level_II\n",
       "1        Normal_Weight\n",
       "2  Insufficient_Weight\n",
       "3     Obesity_Type_III\n",
       "4  Overweight_Level_II"
      ]
     },
     "execution_count": 35,
     "metadata": {},
     "output_type": "execute_result"
    }
   ],
   "source": [
    "Y.head()"
   ]
  },
  {
   "cell_type": "code",
   "execution_count": 36,
   "metadata": {},
   "outputs": [
    {
     "data": {
      "text/plain": [
       "NObeyesdad         \n",
       "Obesity_Type_III       4046\n",
       "Obesity_Type_II        3248\n",
       "Normal_Weight          3082\n",
       "Obesity_Type_I         2910\n",
       "Insufficient_Weight    2523\n",
       "Overweight_Level_II    2522\n",
       "Overweight_Level_I     2427\n",
       "Name: count, dtype: int64"
      ]
     },
     "execution_count": 36,
     "metadata": {},
     "output_type": "execute_result"
    }
   ],
   "source": [
    "Y.value_counts()"
   ]
  },
  {
   "cell_type": "code",
   "execution_count": 37,
   "metadata": {},
   "outputs": [
    {
     "data": {
      "text/plain": [
       "<Axes: xlabel='NObeyesdad'>"
      ]
     },
     "execution_count": 37,
     "metadata": {},
     "output_type": "execute_result"
    },
    {
     "data": {
      "image/png": "[encoded data removed]",
      "text/plain": [
       "<Figure size 640x480 with 1 Axes>"
      ]
     },
     "metadata": {},
     "output_type": "display_data"
    }
   ],
   "source": [
    "Y.value_counts().plot(kind='bar')"
   ]
  },
  {
   "cell_type": "markdown",
   "metadata": {},
   "source": [
    "### Seperate cat and con on X feature"
   ]
  },
  {
   "cell_type": "code",
   "execution_count": 38,
   "metadata": {},
   "outputs": [],
   "source": [
    "cat = list(X.columns[X.dtypes=='object'])\n",
    "con = list(X.columns[X.dtypes!='object'])"
   ]
  },
  {
   "cell_type": "code",
   "execution_count": 39,
   "metadata": {},
   "outputs": [
    {
     "data": {
      "text/plain": [
       "['Gender',\n",
       " 'family_history_with_overweight',\n",
       " 'FAVC',\n",
       " 'CAEC',\n",
       " 'SMOKE',\n",
       " 'SCC',\n",
       " 'CALC',\n",
       " 'MTRANS']"
      ]
     },
     "execution_count": 39,
     "metadata": {},
     "output_type": "execute_result"
    }
   ],
   "source": [
    "cat"
   ]
  },
  {
   "cell_type": "code",
   "execution_count": 40,
   "metadata": {},
   "outputs": [
    {
     "data": {
      "text/plain": [
       "['Age', 'Height', 'Weight', 'FCVC', 'NCP', 'CH2O', 'FAF', 'TUE']"
      ]
     },
     "execution_count": 40,
     "metadata": {},
     "output_type": "execute_result"
    }
   ],
   "source": [
    "con"
   ]
  },
  {
   "cell_type": "markdown",
   "metadata": {},
   "source": [
    "### Apply Preprocessing on X Feature"
   ]
  },
  {
   "cell_type": "code",
   "execution_count": 41,
   "metadata": {},
   "outputs": [],
   "source": [
    "from sklearn.pipeline import Pipeline\n",
    "from sklearn.impute import SimpleImputer\n",
    "from sklearn.preprocessing import StandardScaler, OneHotEncoder\n",
    "from sklearn.compose import ColumnTransformer"
   ]
  },
  {
   "cell_type": "code",
   "execution_count": 42,
   "metadata": {},
   "outputs": [],
   "source": [
    "num_pipe = Pipeline(steps=[('impute',SimpleImputer(strategy='mean')),\n",
    "                           ('scaler', StandardScaler())])\n",
    "cat_pipe = Pipeline(steps=([('impute', SimpleImputer(strategy='most_frequent')),\n",
    "                            ('ohe',OneHotEncoder(handle_unknown='ignore',sparse_output=False))]))\n",
    "pre = ColumnTransformer([('con',num_pipe,con),('cat',cat_pipe,cat)]).set_output(transform='pandas')"
   ]
  },
  {
   "cell_type": "code",
   "execution_count": 43,
   "metadata": {},
   "outputs": [
    {
     "data": {
      "text/html": [
       "<div>\n",
       "<style scoped>\n",
       "    .dataframe tbody tr th:only-of-type {\n",
       "        vertical-align: middle;\n",
       "    }\n",
       "\n",
       "    .dataframe tbody tr th {\n",
       "        vertical-align: top;\n",
       "    }\n",
       "\n",
       "    .dataframe thead th {\n",
       "        text-align: right;\n",
       "    }\n",
       "</style>\n",
       "<table border=\"1\" class=\"dataframe\">\n",
       "  <thead>\n",
       "    <tr style=\"text-align: right;\">\n",
       "      <th></th>\n",
       "      <th>con__Age</th>\n",
       "      <th>con__Height</th>\n",
       "      <th>con__Weight</th>\n",
       "      <th>con__FCVC</th>\n",
       "      <th>con__NCP</th>\n",
       "      <th>con__CH2O</th>\n",
       "      <th>con__FAF</th>\n",
       "      <th>con__TUE</th>\n",
       "      <th>cat__Gender_Female</th>\n",
       "      <th>cat__Gender_Male</th>\n",
       "      <th>...</th>\n",
       "      <th>cat__SCC_no</th>\n",
       "      <th>cat__SCC_yes</th>\n",
       "      <th>cat__CALC_Frequently</th>\n",
       "      <th>cat__CALC_Sometimes</th>\n",
       "      <th>cat__CALC_no</th>\n",
       "      <th>cat__MTRANS_Automobile</th>\n",
       "      <th>cat__MTRANS_Bike</th>\n",
       "      <th>cat__MTRANS_Motorbike</th>\n",
       "      <th>cat__MTRANS_Public_Transportation</th>\n",
       "      <th>cat__MTRANS_Walking</th>\n",
       "    </tr>\n",
       "  </thead>\n",
       "  <tbody>\n",
       "    <tr>\n",
       "      <th>0</th>\n",
       "      <td>0.105699</td>\n",
       "      <td>-0.002828</td>\n",
       "      <td>-0.235713</td>\n",
       "      <td>-0.836279</td>\n",
       "      <td>0.314684</td>\n",
       "      <td>1.206594</td>\n",
       "      <td>-1.171141</td>\n",
       "      <td>0.597438</td>\n",
       "      <td>0.0</td>\n",
       "      <td>1.0</td>\n",
       "      <td>...</td>\n",
       "      <td>1.0</td>\n",
       "      <td>0.0</td>\n",
       "      <td>0.0</td>\n",
       "      <td>1.0</td>\n",
       "      <td>0.0</td>\n",
       "      <td>0.0</td>\n",
       "      <td>0.0</td>\n",
       "      <td>0.0</td>\n",
       "      <td>1.0</td>\n",
       "      <td>0.0</td>\n",
       "    </tr>\n",
       "    <tr>\n",
       "      <th>1</th>\n",
       "      <td>-1.027052</td>\n",
       "      <td>-1.606291</td>\n",
       "      <td>-1.170931</td>\n",
       "      <td>-0.836279</td>\n",
       "      <td>0.338364</td>\n",
       "      <td>-0.048349</td>\n",
       "      <td>0.021775</td>\n",
       "      <td>0.636513</td>\n",
       "      <td>1.0</td>\n",
       "      <td>0.0</td>\n",
       "      <td>...</td>\n",
       "      <td>1.0</td>\n",
       "      <td>0.0</td>\n",
       "      <td>0.0</td>\n",
       "      <td>0.0</td>\n",
       "      <td>1.0</td>\n",
       "      <td>1.0</td>\n",
       "      <td>0.0</td>\n",
       "      <td>0.0</td>\n",
       "      <td>0.0</td>\n",
       "      <td>0.0</td>\n",
       "    </tr>\n",
       "    <tr>\n",
       "      <th>2</th>\n",
       "      <td>-1.027052</td>\n",
       "      <td>0.128451</td>\n",
       "      <td>-1.430012</td>\n",
       "      <td>-1.060332</td>\n",
       "      <td>-1.913423</td>\n",
       "      <td>-0.195644</td>\n",
       "      <td>-0.138022</td>\n",
       "      <td>1.755239</td>\n",
       "      <td>1.0</td>\n",
       "      <td>0.0</td>\n",
       "      <td>...</td>\n",
       "      <td>1.0</td>\n",
       "      <td>0.0</td>\n",
       "      <td>0.0</td>\n",
       "      <td>0.0</td>\n",
       "      <td>1.0</td>\n",
       "      <td>0.0</td>\n",
       "      <td>0.0</td>\n",
       "      <td>0.0</td>\n",
       "      <td>1.0</td>\n",
       "      <td>0.0</td>\n",
       "    </tr>\n",
       "    <tr>\n",
       "      <th>3</th>\n",
       "      <td>-0.507929</td>\n",
       "      <td>0.120090</td>\n",
       "      <td>1.644770</td>\n",
       "      <td>1.039171</td>\n",
       "      <td>0.338364</td>\n",
       "      <td>-0.584035</td>\n",
       "      <td>0.579896</td>\n",
       "      <td>0.271455</td>\n",
       "      <td>1.0</td>\n",
       "      <td>0.0</td>\n",
       "      <td>...</td>\n",
       "      <td>1.0</td>\n",
       "      <td>0.0</td>\n",
       "      <td>0.0</td>\n",
       "      <td>1.0</td>\n",
       "      <td>0.0</td>\n",
       "      <td>0.0</td>\n",
       "      <td>0.0</td>\n",
       "      <td>0.0</td>\n",
       "      <td>1.0</td>\n",
       "      <td>0.0</td>\n",
       "    </tr>\n",
       "    <tr>\n",
       "      <th>4</th>\n",
       "      <td>1.371197</td>\n",
       "      <td>2.450367</td>\n",
       "      <td>0.224054</td>\n",
       "      <td>0.438397</td>\n",
       "      <td>-1.119801</td>\n",
       "      <td>-0.081469</td>\n",
       "      <td>1.176486</td>\n",
       "      <td>0.523111</td>\n",
       "      <td>0.0</td>\n",
       "      <td>1.0</td>\n",
       "      <td>...</td>\n",
       "      <td>1.0</td>\n",
       "      <td>0.0</td>\n",
       "      <td>0.0</td>\n",
       "      <td>1.0</td>\n",
       "      <td>0.0</td>\n",
       "      <td>0.0</td>\n",
       "      <td>0.0</td>\n",
       "      <td>0.0</td>\n",
       "      <td>1.0</td>\n",
       "      <td>0.0</td>\n",
       "    </tr>\n",
       "  </tbody>\n",
       "</table>\n",
       "<p>5 rows × 30 columns</p>\n",
       "</div>"
      ],
      "text/plain": [
       "   con__Age  con__Height  con__Weight  con__FCVC  con__NCP  con__CH2O  \\\n",
       "0  0.105699    -0.002828    -0.235713  -0.836279  0.314684   1.206594   \n",
       "1 -1.027052    -1.606291    -1.170931  -0.836279  0.338364  -0.048349   \n",
       "2 -1.027052     0.128451    -1.430012  -1.060332 -1.913423  -0.195644   \n",
       "3 -0.507929     0.120090     1.644770   1.039171  0.338364  -0.584035   \n",
       "4  1.371197     2.450367     0.224054   0.438397 -1.119801  -0.081469   \n",
       "\n",
       "   con__FAF  con__TUE  cat__Gender_Female  cat__Gender_Male  ...  cat__SCC_no  \\\n",
       "0 -1.171141  0.597438                 0.0               1.0  ...          1.0   \n",
       "1  0.021775  0.636513                 1.0               0.0  ...          1.0   \n",
       "2 -0.138022  1.755239                 1.0               0.0  ...          1.0   \n",
       "3  0.579896  0.271455                 1.0               0.0  ...          1.0   \n",
       "4  1.176486  0.523111                 0.0               1.0  ...          1.0   \n",
       "\n",
       "   cat__SCC_yes  cat__CALC_Frequently  cat__CALC_Sometimes  cat__CALC_no  \\\n",
       "0           0.0                   0.0                  1.0           0.0   \n",
       "1           0.0                   0.0                  0.0           1.0   \n",
       "2           0.0                   0.0                  0.0           1.0   \n",
       "3           0.0                   0.0                  1.0           0.0   \n",
       "4           0.0                   0.0                  1.0           0.0   \n",
       "\n",
       "   cat__MTRANS_Automobile  cat__MTRANS_Bike  cat__MTRANS_Motorbike  \\\n",
       "0                     0.0               0.0                    0.0   \n",
       "1                     1.0               0.0                    0.0   \n",
       "2                     0.0               0.0                    0.0   \n",
       "3                     0.0               0.0                    0.0   \n",
       "4                     0.0               0.0                    0.0   \n",
       "\n",
       "   cat__MTRANS_Public_Transportation  cat__MTRANS_Walking  \n",
       "0                                1.0                  0.0  \n",
       "1                                0.0                  0.0  \n",
       "2                                1.0                  0.0  \n",
       "3                                1.0                  0.0  \n",
       "4                                1.0                  0.0  \n",
       "\n",
       "[5 rows x 30 columns]"
      ]
     },
     "execution_count": 43,
     "metadata": {},
     "output_type": "execute_result"
    }
   ],
   "source": [
    "X_pre = pre.fit_transform(X)\n",
    "X_pre.head()"
   ]
  },
  {
   "cell_type": "markdown",
   "metadata": {},
   "source": [
    "### Apply Ordinal Encoder on Y Feature"
   ]
  },
  {
   "cell_type": "code",
   "execution_count": 44,
   "metadata": {},
   "outputs": [
    {
     "data": {
      "text/html": [
       "<div>\n",
       "<style scoped>\n",
       "    .dataframe tbody tr th:only-of-type {\n",
       "        vertical-align: middle;\n",
       "    }\n",
       "\n",
       "    .dataframe tbody tr th {\n",
       "        vertical-align: top;\n",
       "    }\n",
       "\n",
       "    .dataframe thead th {\n",
       "        text-align: right;\n",
       "    }\n",
       "</style>\n",
       "<table border=\"1\" class=\"dataframe\">\n",
       "  <thead>\n",
       "    <tr style=\"text-align: right;\">\n",
       "      <th></th>\n",
       "      <th>NObeyesdad</th>\n",
       "    </tr>\n",
       "  </thead>\n",
       "  <tbody>\n",
       "    <tr>\n",
       "      <th>0</th>\n",
       "      <td>6.0</td>\n",
       "    </tr>\n",
       "    <tr>\n",
       "      <th>1</th>\n",
       "      <td>1.0</td>\n",
       "    </tr>\n",
       "    <tr>\n",
       "      <th>2</th>\n",
       "      <td>0.0</td>\n",
       "    </tr>\n",
       "    <tr>\n",
       "      <th>3</th>\n",
       "      <td>4.0</td>\n",
       "    </tr>\n",
       "    <tr>\n",
       "      <th>4</th>\n",
       "      <td>6.0</td>\n",
       "    </tr>\n",
       "  </tbody>\n",
       "</table>\n",
       "</div>"
      ],
      "text/plain": [
       "   NObeyesdad\n",
       "0         6.0\n",
       "1         1.0\n",
       "2         0.0\n",
       "3         4.0\n",
       "4         6.0"
      ]
     },
     "execution_count": 44,
     "metadata": {},
     "output_type": "execute_result"
    }
   ],
   "source": [
    "from sklearn.preprocessing import OrdinalEncoder\n",
    "ord = OrdinalEncoder().set_output(transform='pandas')\n",
    "Y_ord = ord.fit_transform(Y)\n",
    "Y_ord[0:5]"
   ]
  },
  {
   "cell_type": "markdown",
   "metadata": {},
   "source": [
    "### Apply Train Test Split"
   ]
  },
  {
   "cell_type": "code",
   "execution_count": 45,
   "metadata": {},
   "outputs": [],
   "source": [
    "from sklearn.model_selection import train_test_split\n",
    "xtrain, xtest, ytrain, ytest = train_test_split(X_pre, Y_ord, test_size=0.2, random_state=42)"
   ]
  },
  {
   "cell_type": "code",
   "execution_count": 46,
   "metadata": {},
   "outputs": [
    {
     "data": {
      "text/html": [
       "<div>\n",
       "<style scoped>\n",
       "    .dataframe tbody tr th:only-of-type {\n",
       "        vertical-align: middle;\n",
       "    }\n",
       "\n",
       "    .dataframe tbody tr th {\n",
       "        vertical-align: top;\n",
       "    }\n",
       "\n",
       "    .dataframe thead th {\n",
       "        text-align: right;\n",
       "    }\n",
       "</style>\n",
       "<table border=\"1\" class=\"dataframe\">\n",
       "  <thead>\n",
       "    <tr style=\"text-align: right;\">\n",
       "      <th></th>\n",
       "      <th>con__Age</th>\n",
       "      <th>con__Height</th>\n",
       "      <th>con__Weight</th>\n",
       "      <th>con__FCVC</th>\n",
       "      <th>con__NCP</th>\n",
       "      <th>con__CH2O</th>\n",
       "      <th>con__FAF</th>\n",
       "      <th>con__TUE</th>\n",
       "      <th>cat__Gender_Female</th>\n",
       "      <th>cat__Gender_Male</th>\n",
       "      <th>...</th>\n",
       "      <th>cat__SCC_no</th>\n",
       "      <th>cat__SCC_yes</th>\n",
       "      <th>cat__CALC_Frequently</th>\n",
       "      <th>cat__CALC_Sometimes</th>\n",
       "      <th>cat__CALC_no</th>\n",
       "      <th>cat__MTRANS_Automobile</th>\n",
       "      <th>cat__MTRANS_Bike</th>\n",
       "      <th>cat__MTRANS_Motorbike</th>\n",
       "      <th>cat__MTRANS_Public_Transportation</th>\n",
       "      <th>cat__MTRANS_Walking</th>\n",
       "    </tr>\n",
       "  </thead>\n",
       "  <tbody>\n",
       "    <tr>\n",
       "      <th>9958</th>\n",
       "      <td>-1.202863</td>\n",
       "      <td>0.798937</td>\n",
       "      <td>0.345438</td>\n",
       "      <td>1.039171</td>\n",
       "      <td>0.338364</td>\n",
       "      <td>-0.048349</td>\n",
       "      <td>2.407607</td>\n",
       "      <td>0.636513</td>\n",
       "      <td>0.0</td>\n",
       "      <td>1.0</td>\n",
       "      <td>...</td>\n",
       "      <td>1.0</td>\n",
       "      <td>0.0</td>\n",
       "      <td>0.0</td>\n",
       "      <td>0.0</td>\n",
       "      <td>1.0</td>\n",
       "      <td>1.0</td>\n",
       "      <td>0.0</td>\n",
       "      <td>0.0</td>\n",
       "      <td>0.0</td>\n",
       "      <td>0.0</td>\n",
       "    </tr>\n",
       "    <tr>\n",
       "      <th>7841</th>\n",
       "      <td>-0.206438</td>\n",
       "      <td>0.608684</td>\n",
       "      <td>-1.251408</td>\n",
       "      <td>-0.836279</td>\n",
       "      <td>1.756085</td>\n",
       "      <td>-0.048349</td>\n",
       "      <td>1.214691</td>\n",
       "      <td>0.636513</td>\n",
       "      <td>0.0</td>\n",
       "      <td>1.0</td>\n",
       "      <td>...</td>\n",
       "      <td>1.0</td>\n",
       "      <td>0.0</td>\n",
       "      <td>0.0</td>\n",
       "      <td>0.0</td>\n",
       "      <td>1.0</td>\n",
       "      <td>0.0</td>\n",
       "      <td>0.0</td>\n",
       "      <td>0.0</td>\n",
       "      <td>1.0</td>\n",
       "      <td>0.0</td>\n",
       "    </tr>\n",
       "    <tr>\n",
       "      <th>9293</th>\n",
       "      <td>-0.352234</td>\n",
       "      <td>1.370087</td>\n",
       "      <td>1.294114</td>\n",
       "      <td>1.039171</td>\n",
       "      <td>0.169396</td>\n",
       "      <td>-0.631241</td>\n",
       "      <td>-0.288525</td>\n",
       "      <td>-1.024344</td>\n",
       "      <td>0.0</td>\n",
       "      <td>1.0</td>\n",
       "      <td>...</td>\n",
       "      <td>1.0</td>\n",
       "      <td>0.0</td>\n",
       "      <td>0.0</td>\n",
       "      <td>1.0</td>\n",
       "      <td>0.0</td>\n",
       "      <td>0.0</td>\n",
       "      <td>0.0</td>\n",
       "      <td>0.0</td>\n",
       "      <td>1.0</td>\n",
       "      <td>0.0</td>\n",
       "    </tr>\n",
       "    <tr>\n",
       "      <th>15209</th>\n",
       "      <td>3.016595</td>\n",
       "      <td>-1.377221</td>\n",
       "      <td>-0.299019</td>\n",
       "      <td>-0.836279</td>\n",
       "      <td>0.338364</td>\n",
       "      <td>-1.691863</td>\n",
       "      <td>-1.171141</td>\n",
       "      <td>-1.024344</td>\n",
       "      <td>1.0</td>\n",
       "      <td>0.0</td>\n",
       "      <td>...</td>\n",
       "      <td>1.0</td>\n",
       "      <td>0.0</td>\n",
       "      <td>0.0</td>\n",
       "      <td>1.0</td>\n",
       "      <td>0.0</td>\n",
       "      <td>1.0</td>\n",
       "      <td>0.0</td>\n",
       "      <td>0.0</td>\n",
       "      <td>0.0</td>\n",
       "      <td>0.0</td>\n",
       "    </tr>\n",
       "    <tr>\n",
       "      <th>16515</th>\n",
       "      <td>-0.147998</td>\n",
       "      <td>1.142541</td>\n",
       "      <td>0.269619</td>\n",
       "      <td>1.039171</td>\n",
       "      <td>0.338364</td>\n",
       "      <td>1.595165</td>\n",
       "      <td>1.214691</td>\n",
       "      <td>0.636513</td>\n",
       "      <td>0.0</td>\n",
       "      <td>1.0</td>\n",
       "      <td>...</td>\n",
       "      <td>1.0</td>\n",
       "      <td>0.0</td>\n",
       "      <td>1.0</td>\n",
       "      <td>0.0</td>\n",
       "      <td>0.0</td>\n",
       "      <td>0.0</td>\n",
       "      <td>0.0</td>\n",
       "      <td>0.0</td>\n",
       "      <td>1.0</td>\n",
       "      <td>0.0</td>\n",
       "    </tr>\n",
       "  </tbody>\n",
       "</table>\n",
       "<p>5 rows × 30 columns</p>\n",
       "</div>"
      ],
      "text/plain": [
       "       con__Age  con__Height  con__Weight  con__FCVC  con__NCP  con__CH2O  \\\n",
       "9958  -1.202863     0.798937     0.345438   1.039171  0.338364  -0.048349   \n",
       "7841  -0.206438     0.608684    -1.251408  -0.836279  1.756085  -0.048349   \n",
       "9293  -0.352234     1.370087     1.294114   1.039171  0.169396  -0.631241   \n",
       "15209  3.016595    -1.377221    -0.299019  -0.836279  0.338364  -1.691863   \n",
       "16515 -0.147998     1.142541     0.269619   1.039171  0.338364   1.595165   \n",
       "\n",
       "       con__FAF  con__TUE  cat__Gender_Female  cat__Gender_Male  ...  \\\n",
       "9958   2.407607  0.636513                 0.0               1.0  ...   \n",
       "7841   1.214691  0.636513                 0.0               1.0  ...   \n",
       "9293  -0.288525 -1.024344                 0.0               1.0  ...   \n",
       "15209 -1.171141 -1.024344                 1.0               0.0  ...   \n",
       "16515  1.214691  0.636513                 0.0               1.0  ...   \n",
       "\n",
       "       cat__SCC_no  cat__SCC_yes  cat__CALC_Frequently  cat__CALC_Sometimes  \\\n",
       "9958           1.0           0.0                   0.0                  0.0   \n",
       "7841           1.0           0.0                   0.0                  0.0   \n",
       "9293           1.0           0.0                   0.0                  1.0   \n",
       "15209          1.0           0.0                   0.0                  1.0   \n",
       "16515          1.0           0.0                   1.0                  0.0   \n",
       "\n",
       "       cat__CALC_no  cat__MTRANS_Automobile  cat__MTRANS_Bike  \\\n",
       "9958            1.0                     1.0               0.0   \n",
       "7841            1.0                     0.0               0.0   \n",
       "9293            0.0                     0.0               0.0   \n",
       "15209           0.0                     1.0               0.0   \n",
       "16515           0.0                     0.0               0.0   \n",
       "\n",
       "       cat__MTRANS_Motorbike  cat__MTRANS_Public_Transportation  \\\n",
       "9958                     0.0                                0.0   \n",
       "7841                     0.0                                1.0   \n",
       "9293                     0.0                                1.0   \n",
       "15209                    0.0                                0.0   \n",
       "16515                    0.0                                1.0   \n",
       "\n",
       "       cat__MTRANS_Walking  \n",
       "9958                   0.0  \n",
       "7841                   0.0  \n",
       "9293                   0.0  \n",
       "15209                  0.0  \n",
       "16515                  0.0  \n",
       "\n",
       "[5 rows x 30 columns]"
      ]
     },
     "execution_count": 46,
     "metadata": {},
     "output_type": "execute_result"
    }
   ],
   "source": [
    "xtrain.head()"
   ]
  },
  {
   "cell_type": "code",
   "execution_count": 47,
   "metadata": {},
   "outputs": [
    {
     "data": {
      "text/html": [
       "<div>\n",
       "<style scoped>\n",
       "    .dataframe tbody tr th:only-of-type {\n",
       "        vertical-align: middle;\n",
       "    }\n",
       "\n",
       "    .dataframe tbody tr th {\n",
       "        vertical-align: top;\n",
       "    }\n",
       "\n",
       "    .dataframe thead th {\n",
       "        text-align: right;\n",
       "    }\n",
       "</style>\n",
       "<table border=\"1\" class=\"dataframe\">\n",
       "  <thead>\n",
       "    <tr style=\"text-align: right;\">\n",
       "      <th></th>\n",
       "      <th>NObeyesdad</th>\n",
       "    </tr>\n",
       "  </thead>\n",
       "  <tbody>\n",
       "    <tr>\n",
       "      <th>9958</th>\n",
       "      <td>2.0</td>\n",
       "    </tr>\n",
       "    <tr>\n",
       "      <th>7841</th>\n",
       "      <td>0.0</td>\n",
       "    </tr>\n",
       "    <tr>\n",
       "      <th>9293</th>\n",
       "      <td>3.0</td>\n",
       "    </tr>\n",
       "    <tr>\n",
       "      <th>15209</th>\n",
       "      <td>2.0</td>\n",
       "    </tr>\n",
       "    <tr>\n",
       "      <th>16515</th>\n",
       "      <td>6.0</td>\n",
       "    </tr>\n",
       "  </tbody>\n",
       "</table>\n",
       "</div>"
      ],
      "text/plain": [
       "       NObeyesdad\n",
       "9958          2.0\n",
       "7841          0.0\n",
       "9293          3.0\n",
       "15209         2.0\n",
       "16515         6.0"
      ]
     },
     "execution_count": 47,
     "metadata": {},
     "output_type": "execute_result"
    }
   ],
   "source": [
    "ytrain.head()"
   ]
  },
  {
   "cell_type": "code",
   "execution_count": 48,
   "metadata": {},
   "outputs": [
    {
     "data": {
      "text/html": [
       "<div>\n",
       "<style scoped>\n",
       "    .dataframe tbody tr th:only-of-type {\n",
       "        vertical-align: middle;\n",
       "    }\n",
       "\n",
       "    .dataframe tbody tr th {\n",
       "        vertical-align: top;\n",
       "    }\n",
       "\n",
       "    .dataframe thead th {\n",
       "        text-align: right;\n",
       "    }\n",
       "</style>\n",
       "<table border=\"1\" class=\"dataframe\">\n",
       "  <thead>\n",
       "    <tr style=\"text-align: right;\">\n",
       "      <th></th>\n",
       "      <th>con__Age</th>\n",
       "      <th>con__Height</th>\n",
       "      <th>con__Weight</th>\n",
       "      <th>con__FCVC</th>\n",
       "      <th>con__NCP</th>\n",
       "      <th>con__CH2O</th>\n",
       "      <th>con__FAF</th>\n",
       "      <th>con__TUE</th>\n",
       "      <th>cat__Gender_Female</th>\n",
       "      <th>cat__Gender_Male</th>\n",
       "      <th>...</th>\n",
       "      <th>cat__SCC_no</th>\n",
       "      <th>cat__SCC_yes</th>\n",
       "      <th>cat__CALC_Frequently</th>\n",
       "      <th>cat__CALC_Sometimes</th>\n",
       "      <th>cat__CALC_no</th>\n",
       "      <th>cat__MTRANS_Automobile</th>\n",
       "      <th>cat__MTRANS_Bike</th>\n",
       "      <th>cat__MTRANS_Motorbike</th>\n",
       "      <th>cat__MTRANS_Public_Transportation</th>\n",
       "      <th>cat__MTRANS_Walking</th>\n",
       "    </tr>\n",
       "  </thead>\n",
       "  <tbody>\n",
       "    <tr>\n",
       "      <th>10317</th>\n",
       "      <td>0.379434</td>\n",
       "      <td>-0.584893</td>\n",
       "      <td>0.911536</td>\n",
       "      <td>1.039171</td>\n",
       "      <td>0.338364</td>\n",
       "      <td>-1.211170</td>\n",
       "      <td>-1.093287</td>\n",
       "      <td>0.157075</td>\n",
       "      <td>1.0</td>\n",
       "      <td>0.0</td>\n",
       "      <td>...</td>\n",
       "      <td>1.0</td>\n",
       "      <td>0.0</td>\n",
       "      <td>0.0</td>\n",
       "      <td>1.0</td>\n",
       "      <td>0.0</td>\n",
       "      <td>0.0</td>\n",
       "      <td>0.0</td>\n",
       "      <td>0.0</td>\n",
       "      <td>1.0</td>\n",
       "      <td>0.0</td>\n",
       "    </tr>\n",
       "    <tr>\n",
       "      <th>4074</th>\n",
       "      <td>-1.027052</td>\n",
       "      <td>0.569868</td>\n",
       "      <td>-0.299019</td>\n",
       "      <td>-0.836279</td>\n",
       "      <td>0.338364</td>\n",
       "      <td>-0.048349</td>\n",
       "      <td>0.021775</td>\n",
       "      <td>0.636513</td>\n",
       "      <td>0.0</td>\n",
       "      <td>1.0</td>\n",
       "      <td>...</td>\n",
       "      <td>1.0</td>\n",
       "      <td>0.0</td>\n",
       "      <td>0.0</td>\n",
       "      <td>1.0</td>\n",
       "      <td>0.0</td>\n",
       "      <td>0.0</td>\n",
       "      <td>0.0</td>\n",
       "      <td>0.0</td>\n",
       "      <td>1.0</td>\n",
       "      <td>0.0</td>\n",
       "    </tr>\n",
       "    <tr>\n",
       "      <th>9060</th>\n",
       "      <td>-0.084652</td>\n",
       "      <td>0.150442</td>\n",
       "      <td>-0.120003</td>\n",
       "      <td>0.814419</td>\n",
       "      <td>0.338364</td>\n",
       "      <td>1.344141</td>\n",
       "      <td>1.214691</td>\n",
       "      <td>-1.020025</td>\n",
       "      <td>1.0</td>\n",
       "      <td>0.0</td>\n",
       "      <td>...</td>\n",
       "      <td>1.0</td>\n",
       "      <td>0.0</td>\n",
       "      <td>0.0</td>\n",
       "      <td>0.0</td>\n",
       "      <td>1.0</td>\n",
       "      <td>0.0</td>\n",
       "      <td>0.0</td>\n",
       "      <td>0.0</td>\n",
       "      <td>1.0</td>\n",
       "      <td>0.0</td>\n",
       "    </tr>\n",
       "    <tr>\n",
       "      <th>11286</th>\n",
       "      <td>1.083034</td>\n",
       "      <td>-0.338770</td>\n",
       "      <td>0.914090</td>\n",
       "      <td>-1.638904</td>\n",
       "      <td>0.338364</td>\n",
       "      <td>-0.042493</td>\n",
       "      <td>-1.171141</td>\n",
       "      <td>-0.834247</td>\n",
       "      <td>0.0</td>\n",
       "      <td>1.0</td>\n",
       "      <td>...</td>\n",
       "      <td>1.0</td>\n",
       "      <td>0.0</td>\n",
       "      <td>0.0</td>\n",
       "      <td>1.0</td>\n",
       "      <td>0.0</td>\n",
       "      <td>0.0</td>\n",
       "      <td>0.0</td>\n",
       "      <td>0.0</td>\n",
       "      <td>1.0</td>\n",
       "      <td>0.0</td>\n",
       "    </tr>\n",
       "    <tr>\n",
       "      <th>8254</th>\n",
       "      <td>-1.202863</td>\n",
       "      <td>-1.033617</td>\n",
       "      <td>-1.436296</td>\n",
       "      <td>-0.836279</td>\n",
       "      <td>0.338364</td>\n",
       "      <td>-0.048349</td>\n",
       "      <td>-1.171141</td>\n",
       "      <td>2.297369</td>\n",
       "      <td>0.0</td>\n",
       "      <td>1.0</td>\n",
       "      <td>...</td>\n",
       "      <td>1.0</td>\n",
       "      <td>0.0</td>\n",
       "      <td>0.0</td>\n",
       "      <td>0.0</td>\n",
       "      <td>1.0</td>\n",
       "      <td>0.0</td>\n",
       "      <td>0.0</td>\n",
       "      <td>0.0</td>\n",
       "      <td>1.0</td>\n",
       "      <td>0.0</td>\n",
       "    </tr>\n",
       "  </tbody>\n",
       "</table>\n",
       "<p>5 rows × 30 columns</p>\n",
       "</div>"
      ],
      "text/plain": [
       "       con__Age  con__Height  con__Weight  con__FCVC  con__NCP  con__CH2O  \\\n",
       "10317  0.379434    -0.584893     0.911536   1.039171  0.338364  -1.211170   \n",
       "4074  -1.027052     0.569868    -0.299019  -0.836279  0.338364  -0.048349   \n",
       "9060  -0.084652     0.150442    -0.120003   0.814419  0.338364   1.344141   \n",
       "11286  1.083034    -0.338770     0.914090  -1.638904  0.338364  -0.042493   \n",
       "8254  -1.202863    -1.033617    -1.436296  -0.836279  0.338364  -0.048349   \n",
       "\n",
       "       con__FAF  con__TUE  cat__Gender_Female  cat__Gender_Male  ...  \\\n",
       "10317 -1.093287  0.157075                 1.0               0.0  ...   \n",
       "4074   0.021775  0.636513                 0.0               1.0  ...   \n",
       "9060   1.214691 -1.020025                 1.0               0.0  ...   \n",
       "11286 -1.171141 -0.834247                 0.0               1.0  ...   \n",
       "8254  -1.171141  2.297369                 0.0               1.0  ...   \n",
       "\n",
       "       cat__SCC_no  cat__SCC_yes  cat__CALC_Frequently  cat__CALC_Sometimes  \\\n",
       "10317          1.0           0.0                   0.0                  1.0   \n",
       "4074           1.0           0.0                   0.0                  1.0   \n",
       "9060           1.0           0.0                   0.0                  0.0   \n",
       "11286          1.0           0.0                   0.0                  1.0   \n",
       "8254           1.0           0.0                   0.0                  0.0   \n",
       "\n",
       "       cat__CALC_no  cat__MTRANS_Automobile  cat__MTRANS_Bike  \\\n",
       "10317           0.0                     0.0               0.0   \n",
       "4074            0.0                     0.0               0.0   \n",
       "9060            1.0                     0.0               0.0   \n",
       "11286           0.0                     0.0               0.0   \n",
       "8254            1.0                     0.0               0.0   \n",
       "\n",
       "       cat__MTRANS_Motorbike  cat__MTRANS_Public_Transportation  \\\n",
       "10317                    0.0                                1.0   \n",
       "4074                     0.0                                1.0   \n",
       "9060                     0.0                                1.0   \n",
       "11286                    0.0                                1.0   \n",
       "8254                     0.0                                1.0   \n",
       "\n",
       "       cat__MTRANS_Walking  \n",
       "10317                  0.0  \n",
       "4074                   0.0  \n",
       "9060                   0.0  \n",
       "11286                  0.0  \n",
       "8254                   0.0  \n",
       "\n",
       "[5 rows x 30 columns]"
      ]
     },
     "execution_count": 48,
     "metadata": {},
     "output_type": "execute_result"
    }
   ],
   "source": [
    "xtest.head()"
   ]
  },
  {
   "cell_type": "code",
   "execution_count": 49,
   "metadata": {},
   "outputs": [
    {
     "data": {
      "text/html": [
       "<div>\n",
       "<style scoped>\n",
       "    .dataframe tbody tr th:only-of-type {\n",
       "        vertical-align: middle;\n",
       "    }\n",
       "\n",
       "    .dataframe tbody tr th {\n",
       "        vertical-align: top;\n",
       "    }\n",
       "\n",
       "    .dataframe thead th {\n",
       "        text-align: right;\n",
       "    }\n",
       "</style>\n",
       "<table border=\"1\" class=\"dataframe\">\n",
       "  <thead>\n",
       "    <tr style=\"text-align: right;\">\n",
       "      <th></th>\n",
       "      <th>NObeyesdad</th>\n",
       "    </tr>\n",
       "  </thead>\n",
       "  <tbody>\n",
       "    <tr>\n",
       "      <th>10317</th>\n",
       "      <td>4.0</td>\n",
       "    </tr>\n",
       "    <tr>\n",
       "      <th>4074</th>\n",
       "      <td>5.0</td>\n",
       "    </tr>\n",
       "    <tr>\n",
       "      <th>9060</th>\n",
       "      <td>2.0</td>\n",
       "    </tr>\n",
       "    <tr>\n",
       "      <th>11286</th>\n",
       "      <td>3.0</td>\n",
       "    </tr>\n",
       "    <tr>\n",
       "      <th>8254</th>\n",
       "      <td>0.0</td>\n",
       "    </tr>\n",
       "  </tbody>\n",
       "</table>\n",
       "</div>"
      ],
      "text/plain": [
       "       NObeyesdad\n",
       "10317         4.0\n",
       "4074          5.0\n",
       "9060          2.0\n",
       "11286         3.0\n",
       "8254          0.0"
      ]
     },
     "execution_count": 49,
     "metadata": {},
     "output_type": "execute_result"
    }
   ],
   "source": [
    "ytest.head()"
   ]
  },
  {
   "cell_type": "code",
   "execution_count": 50,
   "metadata": {},
   "outputs": [
    {
     "data": {
      "text/plain": [
       "(16606, 30)"
      ]
     },
     "execution_count": 50,
     "metadata": {},
     "output_type": "execute_result"
    }
   ],
   "source": [
    "xtrain.shape"
   ]
  },
  {
   "cell_type": "code",
   "execution_count": 51,
   "metadata": {},
   "outputs": [
    {
     "data": {
      "text/plain": [
       "(4152, 30)"
      ]
     },
     "execution_count": 51,
     "metadata": {},
     "output_type": "execute_result"
    }
   ],
   "source": [
    "xtest.shape"
   ]
  },
  {
   "cell_type": "code",
   "execution_count": 52,
   "metadata": {},
   "outputs": [
    {
     "data": {
      "text/plain": [
       "NObeyesdad\n",
       "4.0           3242\n",
       "3.0           2591\n",
       "1.0           2456\n",
       "2.0           2367\n",
       "6.0           2008\n",
       "0.0           1999\n",
       "5.0           1943\n",
       "Name: count, dtype: int64"
      ]
     },
     "execution_count": 52,
     "metadata": {},
     "output_type": "execute_result"
    }
   ],
   "source": [
    "ytrain.value_counts()"
   ]
  },
  {
   "cell_type": "code",
   "execution_count": 53,
   "metadata": {},
   "outputs": [
    {
     "data": {
      "text/plain": [
       "NObeyesdad\n",
       "4.0           804\n",
       "3.0           657\n",
       "1.0           626\n",
       "2.0           543\n",
       "0.0           524\n",
       "6.0           514\n",
       "5.0           484\n",
       "Name: count, dtype: int64"
      ]
     },
     "execution_count": 53,
     "metadata": {},
     "output_type": "execute_result"
    }
   ],
   "source": [
    "ytest.value_counts()"
   ]
  },
  {
   "cell_type": "markdown",
   "metadata": {},
   "source": [
    "### Convert Target Feature to_categorical"
   ]
  },
  {
   "cell_type": "code",
   "execution_count": 54,
   "metadata": {},
   "outputs": [],
   "source": [
    "from keras.utils import to_categorical\n",
    "ytrain_cat = to_categorical(ytrain)\n",
    "ytest_cat = to_categorical(ytest)"
   ]
  },
  {
   "cell_type": "code",
   "execution_count": 55,
   "metadata": {},
   "outputs": [
    {
     "data": {
      "text/plain": [
       "array([[0., 0., 1., ..., 0., 0., 0.],\n",
       "       [1., 0., 0., ..., 0., 0., 0.],\n",
       "       [0., 0., 0., ..., 0., 0., 0.],\n",
       "       ...,\n",
       "       [0., 0., 0., ..., 0., 1., 0.],\n",
       "       [0., 0., 0., ..., 1., 0., 0.],\n",
       "       [0., 0., 1., ..., 0., 0., 0.]], dtype=float32)"
      ]
     },
     "execution_count": 55,
     "metadata": {},
     "output_type": "execute_result"
    }
   ],
   "source": [
    "ytrain_cat"
   ]
  },
  {
   "cell_type": "code",
   "execution_count": 56,
   "metadata": {},
   "outputs": [
    {
     "data": {
      "text/plain": [
       "array([[0., 0., 0., ..., 1., 0., 0.],\n",
       "       [0., 0., 0., ..., 0., 1., 0.],\n",
       "       [0., 0., 1., ..., 0., 0., 0.],\n",
       "       ...,\n",
       "       [0., 0., 1., ..., 0., 0., 0.],\n",
       "       [0., 0., 0., ..., 0., 1., 0.],\n",
       "       [0., 0., 0., ..., 0., 0., 1.]], dtype=float32)"
      ]
     },
     "execution_count": 56,
     "metadata": {},
     "output_type": "execute_result"
    }
   ],
   "source": [
    "ytest_cat"
   ]
  },
  {
   "cell_type": "markdown",
   "metadata": {},
   "source": [
    "### Create Neural Network"
   ]
  },
  {
   "attachments": {
    "image.png": {
     "image/png": "[encoded data removed]"
    }
   },
   "cell_type": "markdown",
   "metadata": {},
   "source": [
    "![image.png](attachment:image.png)"
   ]
  },
  {
   "cell_type": "code",
   "execution_count": 60,
   "metadata": {},
   "outputs": [
    {
     "data": {
      "text/plain": [
       "30"
      ]
     },
     "execution_count": 60,
     "metadata": {},
     "output_type": "execute_result"
    }
   ],
   "source": [
    "xtrain.shape[1]"
   ]
  },
  {
   "cell_type": "code",
   "execution_count": 61,
   "metadata": {},
   "outputs": [
    {
     "data": {
      "text/plain": [
       "NObeyesdad\n",
       "4.0           3242\n",
       "3.0           2591\n",
       "1.0           2456\n",
       "2.0           2367\n",
       "6.0           2008\n",
       "0.0           1999\n",
       "5.0           1943\n",
       "Name: count, dtype: int64"
      ]
     },
     "execution_count": 61,
     "metadata": {},
     "output_type": "execute_result"
    }
   ],
   "source": [
    "ytrain.value_counts()"
   ]
  },
  {
   "cell_type": "code",
   "execution_count": 62,
   "metadata": {},
   "outputs": [
    {
     "data": {
      "text/plain": [
       "(16606, 7)"
      ]
     },
     "execution_count": 62,
     "metadata": {},
     "output_type": "execute_result"
    }
   ],
   "source": [
    "ytrain_cat.shape"
   ]
  },
  {
   "cell_type": "code",
   "execution_count": 59,
   "metadata": {},
   "outputs": [],
   "source": [
    "from keras.models import Sequential\n",
    "from keras.layers import Dense, Dropout\n",
    "from keras.callbacks import EarlyStopping"
   ]
  },
  {
   "cell_type": "code",
   "execution_count": 64,
   "metadata": {},
   "outputs": [],
   "source": [
    "# create a model\n",
    "model = Sequential()\n",
    "\n",
    "# add a first hidden layer\n",
    "model.add(Dense(64, activation='relu', input_shape= (xtrain.shape[1],)))\n",
    "model.add(Dropout(0.4))\n",
    "\n",
    "# add a second hidden layer\n",
    "model.add(Dense(32, activation= 'relu'))\n",
    "model.add(Dropout(0.3))\n",
    "\n",
    "# final output layer\n",
    "model.add(Dense(7, activation='softmax'))\n"
   ]
  },
  {
   "cell_type": "code",
   "execution_count": 65,
   "metadata": {},
   "outputs": [
    {
     "name": "stdout",
     "output_type": "stream",
     "text": [
      "WARNING:tensorflow:From c:\\Deep Learning\\repository\\venv\\Lib\\site-packages\\keras\\src\\optimizers\\__init__.py:309: The name tf.train.Optimizer is deprecated. Please use tf.compat.v1.train.Optimizer instead.\n",
      "\n"
     ]
    }
   ],
   "source": [
    "model.compile(optimizer= 'adam', loss='categorical_crossentropy', metrics=['accuracy'] )"
   ]
  },
  {
   "cell_type": "code",
   "execution_count": 66,
   "metadata": {},
   "outputs": [],
   "source": [
    "earlystop = EarlyStopping(monitor='val_loss', patience=10)"
   ]
  },
  {
   "cell_type": "markdown",
   "metadata": {},
   "source": [
    "### fit the model"
   ]
  },
  {
   "cell_type": "code",
   "execution_count": 67,
   "metadata": {},
   "outputs": [
    {
     "name": "stdout",
     "output_type": "stream",
     "text": [
      "Epoch 1/400\n",
      "WARNING:tensorflow:From c:\\Deep Learning\\repository\\venv\\Lib\\site-packages\\keras\\src\\utils\\tf_utils.py:492: The name tf.ragged.RaggedTensorValue is deprecated. Please use tf.compat.v1.ragged.RaggedTensorValue instead.\n",
      "\n",
      "WARNING:tensorflow:From c:\\Deep Learning\\repository\\venv\\Lib\\site-packages\\keras\\src\\engine\\base_layer_utils.py:384: The name tf.executing_eagerly_outside_functions is deprecated. Please use tf.compat.v1.executing_eagerly_outside_functions instead.\n",
      "\n",
      "416/416 [==============================] - 5s 5ms/step - loss: 1.2588 - accuracy: 0.4992 - val_loss: 0.7636 - val_accuracy: 0.6875\n",
      "Epoch 2/400\n",
      "416/416 [==============================] - 2s 4ms/step - loss: 0.8302 - accuracy: 0.6524 - val_loss: 0.5972 - val_accuracy: 0.7652\n",
      "Epoch 3/400\n",
      "416/416 [==============================] - 2s 4ms/step - loss: 0.7125 - accuracy: 0.7098 - val_loss: 0.5169 - val_accuracy: 0.8076\n",
      "Epoch 4/400\n",
      "416/416 [==============================] - 2s 4ms/step - loss: 0.6348 - accuracy: 0.7439 - val_loss: 0.4655 - val_accuracy: 0.8371\n",
      "Epoch 5/400\n",
      "416/416 [==============================] - 3s 7ms/step - loss: 0.6051 - accuracy: 0.7604 - val_loss: 0.4458 - val_accuracy: 0.8465\n",
      "Epoch 6/400\n",
      "416/416 [==============================] - 2s 6ms/step - loss: 0.5711 - accuracy: 0.7801 - val_loss: 0.4153 - val_accuracy: 0.8624\n",
      "Epoch 7/400\n",
      "416/416 [==============================] - 2s 5ms/step - loss: 0.5522 - accuracy: 0.7909 - val_loss: 0.4052 - val_accuracy: 0.8648\n",
      "Epoch 8/400\n",
      "416/416 [==============================] - 2s 5ms/step - loss: 0.5412 - accuracy: 0.8009 - val_loss: 0.3940 - val_accuracy: 0.8715\n",
      "Epoch 9/400\n",
      "416/416 [==============================] - 2s 4ms/step - loss: 0.5253 - accuracy: 0.8056 - val_loss: 0.3822 - val_accuracy: 0.8682\n",
      "Epoch 10/400\n",
      "416/416 [==============================] - 2s 4ms/step - loss: 0.5196 - accuracy: 0.8063 - val_loss: 0.3788 - val_accuracy: 0.8694\n",
      "Epoch 11/400\n",
      "416/416 [==============================] - 2s 4ms/step - loss: 0.5051 - accuracy: 0.8182 - val_loss: 0.3826 - val_accuracy: 0.8669\n",
      "Epoch 12/400\n",
      "416/416 [==============================] - 2s 5ms/step - loss: 0.5067 - accuracy: 0.8171 - val_loss: 0.3705 - val_accuracy: 0.8748\n",
      "Epoch 13/400\n",
      "416/416 [==============================] - 2s 5ms/step - loss: 0.4903 - accuracy: 0.8250 - val_loss: 0.3688 - val_accuracy: 0.8769\n",
      "Epoch 14/400\n",
      "416/416 [==============================] - 2s 4ms/step - loss: 0.4899 - accuracy: 0.8278 - val_loss: 0.3638 - val_accuracy: 0.8778\n",
      "Epoch 15/400\n",
      "416/416 [==============================] - 2s 4ms/step - loss: 0.4831 - accuracy: 0.8274 - val_loss: 0.3652 - val_accuracy: 0.8730\n",
      "Epoch 16/400\n",
      "416/416 [==============================] - 2s 6ms/step - loss: 0.4790 - accuracy: 0.8285 - val_loss: 0.3633 - val_accuracy: 0.8763\n",
      "Epoch 17/400\n",
      "416/416 [==============================] - 3s 6ms/step - loss: 0.4716 - accuracy: 0.8283 - val_loss: 0.3592 - val_accuracy: 0.8751\n",
      "Epoch 18/400\n",
      "416/416 [==============================] - 5s 13ms/step - loss: 0.4723 - accuracy: 0.8345 - val_loss: 0.3536 - val_accuracy: 0.8799\n",
      "Epoch 19/400\n",
      "416/416 [==============================] - 5s 13ms/step - loss: 0.4665 - accuracy: 0.8385 - val_loss: 0.3605 - val_accuracy: 0.8736\n",
      "Epoch 20/400\n",
      "416/416 [==============================] - 5s 12ms/step - loss: 0.4751 - accuracy: 0.8343 - val_loss: 0.3577 - val_accuracy: 0.8793\n",
      "Epoch 21/400\n",
      "416/416 [==============================] - 6s 14ms/step - loss: 0.4663 - accuracy: 0.8364 - val_loss: 0.3659 - val_accuracy: 0.8811\n",
      "Epoch 22/400\n",
      "416/416 [==============================] - 5s 13ms/step - loss: 0.4640 - accuracy: 0.8336 - val_loss: 0.3541 - val_accuracy: 0.8778\n",
      "Epoch 23/400\n",
      "416/416 [==============================] - 5s 12ms/step - loss: 0.4605 - accuracy: 0.8429 - val_loss: 0.3494 - val_accuracy: 0.8829\n",
      "Epoch 24/400\n",
      "416/416 [==============================] - 5s 12ms/step - loss: 0.4587 - accuracy: 0.8398 - val_loss: 0.3497 - val_accuracy: 0.8778\n",
      "Epoch 25/400\n",
      "416/416 [==============================] - 5s 12ms/step - loss: 0.4543 - accuracy: 0.8419 - val_loss: 0.3537 - val_accuracy: 0.8781\n",
      "Epoch 26/400\n",
      "416/416 [==============================] - 7s 16ms/step - loss: 0.4681 - accuracy: 0.8351 - val_loss: 0.3537 - val_accuracy: 0.8799\n",
      "Epoch 27/400\n",
      "416/416 [==============================] - 4s 8ms/step - loss: 0.4514 - accuracy: 0.8424 - val_loss: 0.3444 - val_accuracy: 0.8826\n",
      "Epoch 28/400\n",
      "416/416 [==============================] - 3s 8ms/step - loss: 0.4464 - accuracy: 0.8446 - val_loss: 0.3453 - val_accuracy: 0.8835\n",
      "Epoch 29/400\n",
      "416/416 [==============================] - 3s 7ms/step - loss: 0.4510 - accuracy: 0.8433 - val_loss: 0.3467 - val_accuracy: 0.8847\n",
      "Epoch 30/400\n",
      "416/416 [==============================] - 3s 6ms/step - loss: 0.4445 - accuracy: 0.8483 - val_loss: 0.3437 - val_accuracy: 0.8823\n",
      "Epoch 31/400\n",
      "416/416 [==============================] - 4s 9ms/step - loss: 0.4465 - accuracy: 0.8430 - val_loss: 0.3440 - val_accuracy: 0.8871\n",
      "Epoch 32/400\n",
      "416/416 [==============================] - 2s 4ms/step - loss: 0.4397 - accuracy: 0.8480 - val_loss: 0.3490 - val_accuracy: 0.8787\n",
      "Epoch 33/400\n",
      "416/416 [==============================] - 2s 5ms/step - loss: 0.4406 - accuracy: 0.8485 - val_loss: 0.3457 - val_accuracy: 0.8826\n",
      "Epoch 34/400\n",
      "416/416 [==============================] - 2s 4ms/step - loss: 0.4366 - accuracy: 0.8497 - val_loss: 0.3384 - val_accuracy: 0.8877\n",
      "Epoch 35/400\n",
      "416/416 [==============================] - 2s 4ms/step - loss: 0.4433 - accuracy: 0.8463 - val_loss: 0.3374 - val_accuracy: 0.8886\n",
      "Epoch 36/400\n",
      "416/416 [==============================] - 2s 4ms/step - loss: 0.4402 - accuracy: 0.8506 - val_loss: 0.3410 - val_accuracy: 0.8811\n",
      "Epoch 37/400\n",
      "416/416 [==============================] - 2s 4ms/step - loss: 0.4347 - accuracy: 0.8485 - val_loss: 0.3384 - val_accuracy: 0.8814\n",
      "Epoch 38/400\n",
      "416/416 [==============================] - 2s 4ms/step - loss: 0.4372 - accuracy: 0.8464 - val_loss: 0.3438 - val_accuracy: 0.8841\n",
      "Epoch 39/400\n",
      "416/416 [==============================] - 2s 4ms/step - loss: 0.4339 - accuracy: 0.8509 - val_loss: 0.3328 - val_accuracy: 0.8895\n",
      "Epoch 40/400\n",
      "416/416 [==============================] - 2s 4ms/step - loss: 0.4368 - accuracy: 0.8488 - val_loss: 0.3371 - val_accuracy: 0.8841\n",
      "Epoch 41/400\n",
      "416/416 [==============================] - 2s 4ms/step - loss: 0.4309 - accuracy: 0.8509 - val_loss: 0.3405 - val_accuracy: 0.8841\n",
      "Epoch 42/400\n",
      "416/416 [==============================] - 2s 4ms/step - loss: 0.4307 - accuracy: 0.8519 - val_loss: 0.3467 - val_accuracy: 0.8805\n",
      "Epoch 43/400\n",
      "416/416 [==============================] - 2s 4ms/step - loss: 0.4340 - accuracy: 0.8473 - val_loss: 0.3395 - val_accuracy: 0.8820\n",
      "Epoch 44/400\n",
      "416/416 [==============================] - 2s 4ms/step - loss: 0.4362 - accuracy: 0.8490 - val_loss: 0.3359 - val_accuracy: 0.8874\n",
      "Epoch 45/400\n",
      "416/416 [==============================] - 2s 4ms/step - loss: 0.4305 - accuracy: 0.8556 - val_loss: 0.3357 - val_accuracy: 0.8880\n",
      "Epoch 46/400\n",
      "416/416 [==============================] - 2s 4ms/step - loss: 0.4227 - accuracy: 0.8561 - val_loss: 0.3455 - val_accuracy: 0.8853\n",
      "Epoch 47/400\n",
      "416/416 [==============================] - 2s 4ms/step - loss: 0.4355 - accuracy: 0.8530 - val_loss: 0.3390 - val_accuracy: 0.8859\n",
      "Epoch 48/400\n",
      "416/416 [==============================] - 2s 4ms/step - loss: 0.4267 - accuracy: 0.8543 - val_loss: 0.3309 - val_accuracy: 0.8928\n",
      "Epoch 49/400\n",
      "416/416 [==============================] - 2s 4ms/step - loss: 0.4280 - accuracy: 0.8542 - val_loss: 0.3380 - val_accuracy: 0.8859\n",
      "Epoch 50/400\n",
      "416/416 [==============================] - 2s 4ms/step - loss: 0.4282 - accuracy: 0.8537 - val_loss: 0.3306 - val_accuracy: 0.8886\n",
      "Epoch 51/400\n",
      "416/416 [==============================] - 2s 4ms/step - loss: 0.4233 - accuracy: 0.8561 - val_loss: 0.3408 - val_accuracy: 0.8808\n",
      "Epoch 52/400\n",
      "416/416 [==============================] - 2s 4ms/step - loss: 0.4270 - accuracy: 0.8537 - val_loss: 0.3392 - val_accuracy: 0.8823\n",
      "Epoch 53/400\n",
      "416/416 [==============================] - 2s 4ms/step - loss: 0.4228 - accuracy: 0.8526 - val_loss: 0.3378 - val_accuracy: 0.8859\n",
      "Epoch 54/400\n",
      "416/416 [==============================] - 2s 4ms/step - loss: 0.4277 - accuracy: 0.8541 - val_loss: 0.3384 - val_accuracy: 0.8856\n",
      "Epoch 55/400\n",
      "416/416 [==============================] - 2s 4ms/step - loss: 0.4258 - accuracy: 0.8544 - val_loss: 0.3294 - val_accuracy: 0.8853\n",
      "Epoch 56/400\n",
      "416/416 [==============================] - 2s 4ms/step - loss: 0.4310 - accuracy: 0.8486 - val_loss: 0.3350 - val_accuracy: 0.8850\n",
      "Epoch 57/400\n",
      "416/416 [==============================] - 2s 4ms/step - loss: 0.4276 - accuracy: 0.8558 - val_loss: 0.3313 - val_accuracy: 0.8898\n",
      "Epoch 58/400\n",
      "416/416 [==============================] - 2s 4ms/step - loss: 0.4286 - accuracy: 0.8538 - val_loss: 0.3342 - val_accuracy: 0.8841\n",
      "Epoch 59/400\n",
      "416/416 [==============================] - 2s 4ms/step - loss: 0.4194 - accuracy: 0.8549 - val_loss: 0.3295 - val_accuracy: 0.8871\n",
      "Epoch 60/400\n",
      "416/416 [==============================] - 2s 4ms/step - loss: 0.4237 - accuracy: 0.8557 - val_loss: 0.3349 - val_accuracy: 0.8865\n",
      "Epoch 61/400\n",
      "416/416 [==============================] - 2s 4ms/step - loss: 0.4182 - accuracy: 0.8579 - val_loss: 0.3318 - val_accuracy: 0.8841\n",
      "Epoch 62/400\n",
      "416/416 [==============================] - 3s 7ms/step - loss: 0.4170 - accuracy: 0.8579 - val_loss: 0.3363 - val_accuracy: 0.8853\n",
      "Epoch 63/400\n",
      "416/416 [==============================] - 2s 5ms/step - loss: 0.4235 - accuracy: 0.8540 - val_loss: 0.3343 - val_accuracy: 0.8847\n",
      "Epoch 64/400\n",
      "416/416 [==============================] - 2s 5ms/step - loss: 0.4284 - accuracy: 0.8537 - val_loss: 0.3324 - val_accuracy: 0.8862\n",
      "Epoch 65/400\n",
      "416/416 [==============================] - 2s 5ms/step - loss: 0.4237 - accuracy: 0.8561 - val_loss: 0.3342 - val_accuracy: 0.8880\n"
     ]
    }
   ],
   "source": [
    "hist = model.fit(xtrain, ytrain_cat,\n",
    "                 validation_split=0.2,\n",
    "                 epochs=400,\n",
    "                 callbacks=[earlystop])"
   ]
  },
  {
   "cell_type": "markdown",
   "metadata": {},
   "source": [
    "### evaluate model"
   ]
  },
  {
   "cell_type": "code",
   "execution_count": 68,
   "metadata": {},
   "outputs": [
    {
     "name": "stdout",
     "output_type": "stream",
     "text": [
      "519/519 [==============================] - 1s 3ms/step - loss: 0.3298 - accuracy: 0.8874\n"
     ]
    },
    {
     "data": {
      "text/plain": [
       "[0.329834520816803, 0.8873900771141052]"
      ]
     },
     "execution_count": 68,
     "metadata": {},
     "output_type": "execute_result"
    }
   ],
   "source": [
    "model.evaluate(xtrain, ytrain_cat)"
   ]
  },
  {
   "cell_type": "code",
   "execution_count": 69,
   "metadata": {},
   "outputs": [
    {
     "name": "stdout",
     "output_type": "stream",
     "text": [
      "130/130 [==============================] - 0s 3ms/step - loss: 0.3604 - accuracy: 0.8743\n"
     ]
    },
    {
     "data": {
      "text/plain": [
       "[0.36043858528137207, 0.8742774724960327]"
      ]
     },
     "execution_count": 69,
     "metadata": {},
     "output_type": "execute_result"
    }
   ],
   "source": [
    "model.evaluate(xtest, ytest_cat)"
   ]
  },
  {
   "cell_type": "markdown",
   "metadata": {},
   "source": [
    "### Plot the learning curve"
   ]
  },
  {
   "cell_type": "code",
   "execution_count": 70,
   "metadata": {},
   "outputs": [
    {
     "data": {
      "image/png": "[encoded data removed]",
      "text/plain": [
       "<Figure size 1000x600 with 1 Axes>"
      ]
     },
     "metadata": {},
     "output_type": "display_data"
    }
   ],
   "source": [
    "import matplotlib.pyplot as plt\n",
    "plt.figure(figsize=(10,6))\n",
    "plt.plot(hist.history['loss'], label='Train Loss')\n",
    "plt.plot(hist.history['val_loss'], label='Validation Loss')\n",
    "plt.xlabel('Epochs')\n",
    "plt.ylabel('Number of Epochs')\n",
    "plt.title('Learning Curve')\n",
    "plt.legend()\n",
    "plt.show()"
   ]
  },
  {
   "cell_type": "markdown",
   "metadata": {},
   "source": [
    "### Predict the Probability for Train and Test"
   ]
  },
  {
   "cell_type": "code",
   "execution_count": 71,
   "metadata": {},
   "outputs": [
    {
     "name": "stdout",
     "output_type": "stream",
     "text": [
      "519/519 [==============================] - 3s 2ms/step\n",
      "130/130 [==============================] - 0s 2ms/step\n"
     ]
    }
   ],
   "source": [
    "yprob_tr = model.predict(xtrain)\n",
    "yprob_ts = model.predict(xtest)"
   ]
  },
  {
   "cell_type": "code",
   "execution_count": 72,
   "metadata": {},
   "outputs": [
    {
     "data": {
      "text/plain": [
       "array([[1.5648900e-04, 2.5791456e-05, 9.4337463e-01, 2.3036914e-02,\n",
       "        1.6263180e-03, 1.3122532e-03, 3.0467594e-02],\n",
       "       [8.3003151e-01, 1.6869177e-01, 4.1506253e-11, 4.0895417e-19,\n",
       "        2.9517915e-07, 1.2764088e-03, 2.8449068e-10],\n",
       "       [7.7350105e-12, 3.5754477e-25, 8.0044777e-04, 9.9915910e-01,\n",
       "        4.0472911e-05, 9.1090032e-14, 8.7900069e-09],\n",
       "       [3.6521888e-04, 6.2739768e-05, 9.2127007e-01, 6.8877684e-03,\n",
       "        8.3411572e-04, 1.6263498e-02, 5.4316562e-02],\n",
       "       [1.6986817e-06, 4.9665559e-04, 2.5123897e-01, 7.0289653e-03,\n",
       "        2.0461121e-05, 5.7314921e-02, 6.8389827e-01]], dtype=float32)"
      ]
     },
     "execution_count": 72,
     "metadata": {},
     "output_type": "execute_result"
    }
   ],
   "source": [
    "yprob_tr[0:5]"
   ]
  },
  {
   "cell_type": "code",
   "execution_count": 73,
   "metadata": {},
   "outputs": [
    {
     "data": {
      "text/plain": [
       "array([[7.7963041e-16, 6.4420292e-29, 3.0101975e-05, 1.4085643e-09,\n",
       "        9.9996984e-01, 5.3515932e-17, 3.3870367e-16],\n",
       "       [1.5153991e-05, 6.6304371e-02, 7.2587188e-03, 7.0181595e-06,\n",
       "        9.8801502e-06, 8.4113377e-01, 8.5271016e-02],\n",
       "       [5.5935296e-05, 1.8507025e-04, 8.3515382e-01, 4.2838897e-03,\n",
       "        1.1631404e-03, 1.9935876e-02, 1.3922220e-01],\n",
       "       [1.3798926e-11, 1.8861449e-21, 2.7282226e-03, 9.9726981e-01,\n",
       "        4.2931768e-07, 4.2240305e-11, 1.4704757e-06],\n",
       "       [7.1030730e-01, 2.8689620e-01, 7.0859230e-10, 3.8878283e-17,\n",
       "        8.9905467e-07, 2.7955011e-03, 1.3756027e-08]], dtype=float32)"
      ]
     },
     "execution_count": 73,
     "metadata": {},
     "output_type": "execute_result"
    }
   ],
   "source": [
    "yprob_ts[0:5]"
   ]
  },
  {
   "cell_type": "markdown",
   "metadata": {},
   "source": [
    "### Get the Predictions"
   ]
  },
  {
   "cell_type": "code",
   "execution_count": 74,
   "metadata": {},
   "outputs": [],
   "source": [
    "import numpy as np \n",
    "ypred_tr = np.argmax(yprob_tr, axis=1)\n",
    "ypred_ts = np.argmax(yprob_ts, axis=1)"
   ]
  },
  {
   "cell_type": "code",
   "execution_count": 75,
   "metadata": {},
   "outputs": [
    {
     "data": {
      "text/plain": [
       "array([2, 0, 3, 2, 6], dtype=int64)"
      ]
     },
     "execution_count": 75,
     "metadata": {},
     "output_type": "execute_result"
    }
   ],
   "source": [
    "ypred_tr[0:5]"
   ]
  },
  {
   "cell_type": "code",
   "execution_count": 77,
   "metadata": {},
   "outputs": [
    {
     "data": {
      "text/html": [
       "<div>\n",
       "<style scoped>\n",
       "    .dataframe tbody tr th:only-of-type {\n",
       "        vertical-align: middle;\n",
       "    }\n",
       "\n",
       "    .dataframe tbody tr th {\n",
       "        vertical-align: top;\n",
       "    }\n",
       "\n",
       "    .dataframe thead th {\n",
       "        text-align: right;\n",
       "    }\n",
       "</style>\n",
       "<table border=\"1\" class=\"dataframe\">\n",
       "  <thead>\n",
       "    <tr style=\"text-align: right;\">\n",
       "      <th></th>\n",
       "      <th>NObeyesdad</th>\n",
       "    </tr>\n",
       "  </thead>\n",
       "  <tbody>\n",
       "    <tr>\n",
       "      <th>9958</th>\n",
       "      <td>2.0</td>\n",
       "    </tr>\n",
       "    <tr>\n",
       "      <th>7841</th>\n",
       "      <td>0.0</td>\n",
       "    </tr>\n",
       "    <tr>\n",
       "      <th>9293</th>\n",
       "      <td>3.0</td>\n",
       "    </tr>\n",
       "    <tr>\n",
       "      <th>15209</th>\n",
       "      <td>2.0</td>\n",
       "    </tr>\n",
       "    <tr>\n",
       "      <th>16515</th>\n",
       "      <td>6.0</td>\n",
       "    </tr>\n",
       "  </tbody>\n",
       "</table>\n",
       "</div>"
      ],
      "text/plain": [
       "       NObeyesdad\n",
       "9958          2.0\n",
       "7841          0.0\n",
       "9293          3.0\n",
       "15209         2.0\n",
       "16515         6.0"
      ]
     },
     "execution_count": 77,
     "metadata": {},
     "output_type": "execute_result"
    }
   ],
   "source": [
    "ytrain.head()"
   ]
  },
  {
   "cell_type": "code",
   "execution_count": 76,
   "metadata": {},
   "outputs": [
    {
     "data": {
      "text/plain": [
       "array([4, 5, 2, 3, 0], dtype=int64)"
      ]
     },
     "execution_count": 76,
     "metadata": {},
     "output_type": "execute_result"
    }
   ],
   "source": [
    "ypred_ts[0:5]"
   ]
  },
  {
   "cell_type": "code",
   "execution_count": 78,
   "metadata": {},
   "outputs": [
    {
     "data": {
      "text/html": [
       "<div>\n",
       "<style scoped>\n",
       "    .dataframe tbody tr th:only-of-type {\n",
       "        vertical-align: middle;\n",
       "    }\n",
       "\n",
       "    .dataframe tbody tr th {\n",
       "        vertical-align: top;\n",
       "    }\n",
       "\n",
       "    .dataframe thead th {\n",
       "        text-align: right;\n",
       "    }\n",
       "</style>\n",
       "<table border=\"1\" class=\"dataframe\">\n",
       "  <thead>\n",
       "    <tr style=\"text-align: right;\">\n",
       "      <th></th>\n",
       "      <th>NObeyesdad</th>\n",
       "    </tr>\n",
       "  </thead>\n",
       "  <tbody>\n",
       "    <tr>\n",
       "      <th>10317</th>\n",
       "      <td>4.0</td>\n",
       "    </tr>\n",
       "    <tr>\n",
       "      <th>4074</th>\n",
       "      <td>5.0</td>\n",
       "    </tr>\n",
       "    <tr>\n",
       "      <th>9060</th>\n",
       "      <td>2.0</td>\n",
       "    </tr>\n",
       "    <tr>\n",
       "      <th>11286</th>\n",
       "      <td>3.0</td>\n",
       "    </tr>\n",
       "    <tr>\n",
       "      <th>8254</th>\n",
       "      <td>0.0</td>\n",
       "    </tr>\n",
       "  </tbody>\n",
       "</table>\n",
       "</div>"
      ],
      "text/plain": [
       "       NObeyesdad\n",
       "10317         4.0\n",
       "4074          5.0\n",
       "9060          2.0\n",
       "11286         3.0\n",
       "8254          0.0"
      ]
     },
     "execution_count": 78,
     "metadata": {},
     "output_type": "execute_result"
    }
   ],
   "source": [
    "ytest.head()"
   ]
  },
  {
   "cell_type": "markdown",
   "metadata": {},
   "source": [
    "### Getting original Labels"
   ]
  },
  {
   "cell_type": "code",
   "execution_count": 79,
   "metadata": {},
   "outputs": [],
   "source": [
    "ytrain_org = ord.inverse_transform(ytrain)\n",
    "ytest_org = ord.inverse_transform(ytest)"
   ]
  },
  {
   "cell_type": "code",
   "execution_count": 80,
   "metadata": {},
   "outputs": [
    {
     "data": {
      "text/plain": [
       "array([['Obesity_Type_I'],\n",
       "       ['Insufficient_Weight'],\n",
       "       ['Obesity_Type_II'],\n",
       "       ['Obesity_Type_I'],\n",
       "       ['Overweight_Level_II']], dtype=object)"
      ]
     },
     "execution_count": 80,
     "metadata": {},
     "output_type": "execute_result"
    }
   ],
   "source": [
    "ytrain_org[0:5]"
   ]
  },
  {
   "cell_type": "code",
   "execution_count": 81,
   "metadata": {},
   "outputs": [
    {
     "data": {
      "text/plain": [
       "array([['Obesity_Type_III'],\n",
       "       ['Overweight_Level_I'],\n",
       "       ['Obesity_Type_I'],\n",
       "       ['Obesity_Type_II'],\n",
       "       ['Insufficient_Weight']], dtype=object)"
      ]
     },
     "execution_count": 81,
     "metadata": {},
     "output_type": "execute_result"
    }
   ],
   "source": [
    "ytest_org[0:5]"
   ]
  },
  {
   "cell_type": "code",
   "execution_count": 82,
   "metadata": {},
   "outputs": [],
   "source": [
    "ypred_tr_lb = ord.inverse_transform(pd.DataFrame([ypred_tr]).T)\n",
    "ypred_ts_lb = ord.inverse_transform(pd.DataFrame([ypred_ts]).T)"
   ]
  },
  {
   "cell_type": "code",
   "execution_count": 83,
   "metadata": {},
   "outputs": [
    {
     "data": {
      "text/plain": [
       "array([['Obesity_Type_I'],\n",
       "       ['Insufficient_Weight'],\n",
       "       ['Obesity_Type_II'],\n",
       "       ['Obesity_Type_I'],\n",
       "       ['Overweight_Level_II']], dtype=object)"
      ]
     },
     "execution_count": 83,
     "metadata": {},
     "output_type": "execute_result"
    }
   ],
   "source": [
    "ypred_tr_lb[0:5]"
   ]
  },
  {
   "cell_type": "code",
   "execution_count": 84,
   "metadata": {},
   "outputs": [
    {
     "data": {
      "text/plain": [
       "array([['Obesity_Type_III'],\n",
       "       ['Overweight_Level_I'],\n",
       "       ['Obesity_Type_I'],\n",
       "       ['Obesity_Type_II'],\n",
       "       ['Insufficient_Weight']], dtype=object)"
      ]
     },
     "execution_count": 84,
     "metadata": {},
     "output_type": "execute_result"
    }
   ],
   "source": [
    "ypred_ts_lb[0:5]"
   ]
  },
  {
   "cell_type": "markdown",
   "metadata": {},
   "source": [
    "### Plot the confusion matrix"
   ]
  },
  {
   "cell_type": "code",
   "execution_count": 85,
   "metadata": {},
   "outputs": [
    {
     "data": {
      "text/plain": [
       "<sklearn.metrics._plot.confusion_matrix.ConfusionMatrixDisplay at 0x157f1ae0590>"
      ]
     },
     "execution_count": 85,
     "metadata": {},
     "output_type": "execute_result"
    },
    {
     "data": {
      "image/png": "[encoded data removed]",
      "text/plain": [
       "<Figure size 640x480 with 2 Axes>"
      ]
     },
     "metadata": {},
     "output_type": "display_data"
    }
   ],
   "source": [
    "from sklearn.metrics import confusion_matrix, ConfusionMatrixDisplay\n",
    "cf = confusion_matrix(ytest_org, ypred_ts_lb)\n",
    "cfd = ConfusionMatrixDisplay(cf)\n",
    "cfd.plot()"
   ]
  },
  {
   "cell_type": "code",
   "execution_count": 86,
   "metadata": {},
   "outputs": [
    {
     "name": "stdout",
     "output_type": "stream",
     "text": [
      "                     precision    recall  f1-score   support\n",
      "\n",
      "Insufficient_Weight       0.88      0.94      0.91       524\n",
      "      Normal_Weight       0.83      0.86      0.84       626\n",
      "     Obesity_Type_I       0.83      0.86      0.84       543\n",
      "    Obesity_Type_II       0.97      0.96      0.97       657\n",
      "   Obesity_Type_III       1.00      1.00      1.00       804\n",
      " Overweight_Level_I       0.75      0.71      0.73       484\n",
      "Overweight_Level_II       0.76      0.69      0.72       514\n",
      "\n",
      "           accuracy                           0.87      4152\n",
      "          macro avg       0.86      0.86      0.86      4152\n",
      "       weighted avg       0.87      0.87      0.87      4152\n",
      "\n"
     ]
    }
   ],
   "source": [
    "from sklearn.metrics import classification_report\n",
    "print(classification_report(ytest_org, ypred_ts_lb))"
   ]
  },
  {
   "cell_type": "code",
   "execution_count": null,
   "metadata": {},
   "outputs": [],
   "source": []
  }
 ],
 "metadata": {
  "kernelspec": {
   "display_name": "venv",
   "language": "python",
   "name": "python3"
  },
  "language_info": {
   "codemirror_mode": {
    "name": "ipython",
    "version": 3
   },
   "file_extension": ".py",
   "mimetype": "text/x-python",
   "name": "python",
   "nbconvert_exporter": "python",
   "pygments_lexer": "ipython3",
   "version": "3.11.8"
  }
 },
 "nbformat": 4,
 "nbformat_minor": 2
}
